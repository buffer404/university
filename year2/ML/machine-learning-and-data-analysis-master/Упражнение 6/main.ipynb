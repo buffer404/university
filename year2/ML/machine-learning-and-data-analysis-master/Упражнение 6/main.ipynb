{
 "cells": [
  {
   "cell_type": "markdown",
   "id": "ee6c40d9",
   "metadata": {},
   "source": [
    "## Упражнение 6"
   ]
  },
  {
   "cell_type": "markdown",
   "id": "36bda938",
   "metadata": {},
   "source": [
    "**НЕОБХОДИМО ЗАГРУЗИТЬ 2 ДАТАСЕТА**"
   ]
  },
  {
   "cell_type": "code",
   "execution_count": 50,
   "id": "3de15f54",
   "metadata": {},
   "outputs": [],
   "source": [
    "import pandas as pd\n",
    "from sklearn.linear_model import LogisticRegression\n",
    "from sklearn import metrics"
   ]
  },
  {
   "cell_type": "code",
   "execution_count": 51,
   "id": "5b73765f",
   "metadata": {},
   "outputs": [],
   "source": [
    "df = pd.read_csv(\"candy-data.csv\", index_col='competitorname')"
   ]
  },
  {
   "cell_type": "markdown",
   "id": "42afeb48",
   "metadata": {},
   "source": [
    "**Вставить названия конфет, которые у вас в задании**"
   ]
  },
  {
   "cell_type": "code",
   "execution_count": 52,
   "id": "21ec4ef0",
   "metadata": {},
   "outputs": [],
   "source": [
    "train_data = df.drop(['Mike & Ike', 'Root Beer Barrels', 'Starburst'])"
   ]
  },
  {
   "cell_type": "code",
   "execution_count": 53,
   "id": "8bdd32dc",
   "metadata": {},
   "outputs": [],
   "source": [
    "X = pd.DataFrame(train_data.drop(['winpercent', 'Y'], axis=1))\n",
    "Y = pd.DataFrame(train_data['Y'])\n",
    "reg = LogisticRegression(random_state=2019, solver='lbfgs').fit(X, Y.values.ravel())"
   ]
  },
  {
   "cell_type": "code",
   "execution_count": 54,
   "id": "5dae221b",
   "metadata": {},
   "outputs": [],
   "source": [
    "test_data = pd.read_csv(\"candy-test.csv\", delimiter=',', index_col='competitorname')\n",
    "X_test = pd.DataFrame(test_data.drop(['Y'], axis=1))\n",
    "Y_pred = reg.predict(X_test)\n",
    "Y_pred_probs = reg.predict_proba(X_test)"
   ]
  },
  {
   "cell_type": "code",
   "execution_count": 62,
   "id": "60ff1bf0",
   "metadata": {},
   "outputs": [],
   "source": [
    "Probability = pd.DataFrame({\n",
    "    '0': [x[0] for x in Y_pred_probs],\n",
    "    '1': [x[1] for x in Y_pred_probs]\n",
    "},\n",
    "index = test_data.index)"
   ]
  },
  {
   "cell_type": "markdown",
   "id": "6f228b93",
   "metadata": {},
   "source": [
    "**Первый и второй ответы** - столбцы подписаны, можете спокойно искать небходимую конфету и вставлять значения  \n",
    "0 - вероятность нуля  \n",
    "1 - вероятность единицы"
   ]
  },
  {
   "cell_type": "code",
   "execution_count": 63,
   "id": "768e6a10",
   "metadata": {},
   "outputs": [
    {
     "data": {
      "text/html": [
       "<div>\n",
       "<style scoped>\n",
       "    .dataframe tbody tr th:only-of-type {\n",
       "        vertical-align: middle;\n",
       "    }\n",
       "\n",
       "    .dataframe tbody tr th {\n",
       "        vertical-align: top;\n",
       "    }\n",
       "\n",
       "    .dataframe thead th {\n",
       "        text-align: right;\n",
       "    }\n",
       "</style>\n",
       "<table border=\"1\" class=\"dataframe\">\n",
       "  <thead>\n",
       "    <tr style=\"text-align: right;\">\n",
       "      <th></th>\n",
       "      <th>0</th>\n",
       "      <th>1</th>\n",
       "    </tr>\n",
       "    <tr>\n",
       "      <th>competitorname</th>\n",
       "      <th></th>\n",
       "      <th></th>\n",
       "    </tr>\n",
       "  </thead>\n",
       "  <tbody>\n",
       "    <tr>\n",
       "      <th>Sugar Babies</th>\n",
       "      <td>0.715942</td>\n",
       "      <td>0.284058</td>\n",
       "    </tr>\n",
       "    <tr>\n",
       "      <th>Sugar Daddy</th>\n",
       "      <td>0.635288</td>\n",
       "      <td>0.364712</td>\n",
       "    </tr>\n",
       "    <tr>\n",
       "      <th>Super Bubble</th>\n",
       "      <td>0.683843</td>\n",
       "      <td>0.316157</td>\n",
       "    </tr>\n",
       "    <tr>\n",
       "      <th>Swedish Fish</th>\n",
       "      <td>0.622506</td>\n",
       "      <td>0.377494</td>\n",
       "    </tr>\n",
       "    <tr>\n",
       "      <th>Tootsie Pop</th>\n",
       "      <td>0.230455</td>\n",
       "      <td>0.769545</td>\n",
       "    </tr>\n",
       "    <tr>\n",
       "      <th>Tootsie Roll Juniors</th>\n",
       "      <td>0.320300</td>\n",
       "      <td>0.679700</td>\n",
       "    </tr>\n",
       "    <tr>\n",
       "      <th>Tootsie Roll Midgies</th>\n",
       "      <td>0.345030</td>\n",
       "      <td>0.654970</td>\n",
       "    </tr>\n",
       "    <tr>\n",
       "      <th>Tootsie Roll Snack Bars</th>\n",
       "      <td>0.219298</td>\n",
       "      <td>0.780702</td>\n",
       "    </tr>\n",
       "    <tr>\n",
       "      <th>Trolli Sour Bites</th>\n",
       "      <td>0.667611</td>\n",
       "      <td>0.332389</td>\n",
       "    </tr>\n",
       "    <tr>\n",
       "      <th>Twix</th>\n",
       "      <td>0.590136</td>\n",
       "      <td>0.409864</td>\n",
       "    </tr>\n",
       "    <tr>\n",
       "      <th>Twizzlers</th>\n",
       "      <td>0.673573</td>\n",
       "      <td>0.326427</td>\n",
       "    </tr>\n",
       "    <tr>\n",
       "      <th>Warheads</th>\n",
       "      <td>0.864946</td>\n",
       "      <td>0.135054</td>\n",
       "    </tr>\n",
       "    <tr>\n",
       "      <th>Welchs Fruit Snacks</th>\n",
       "      <td>0.668616</td>\n",
       "      <td>0.331384</td>\n",
       "    </tr>\n",
       "    <tr>\n",
       "      <th>Werthers Original Caramel</th>\n",
       "      <td>0.447730</td>\n",
       "      <td>0.552270</td>\n",
       "    </tr>\n",
       "    <tr>\n",
       "      <th>Whoppers</th>\n",
       "      <td>0.241900</td>\n",
       "      <td>0.758100</td>\n",
       "    </tr>\n",
       "  </tbody>\n",
       "</table>\n",
       "</div>"
      ],
      "text/plain": [
       "                                  0         1\n",
       "competitorname                               \n",
       "Sugar Babies               0.715942  0.284058\n",
       "Sugar Daddy                0.635288  0.364712\n",
       "Super Bubble               0.683843  0.316157\n",
       "Swedish Fish               0.622506  0.377494\n",
       "Tootsie Pop                0.230455  0.769545\n",
       "Tootsie Roll Juniors       0.320300  0.679700\n",
       "Tootsie Roll Midgies       0.345030  0.654970\n",
       "Tootsie Roll Snack Bars    0.219298  0.780702\n",
       "Trolli Sour Bites          0.667611  0.332389\n",
       "Twix                       0.590136  0.409864\n",
       "Twizzlers                  0.673573  0.326427\n",
       "Warheads                   0.864946  0.135054\n",
       "Welchs Fruit Snacks        0.668616  0.331384\n",
       "Werthers Original Caramel  0.447730  0.552270\n",
       "Whoppers                   0.241900  0.758100"
      ]
     },
     "execution_count": 63,
     "metadata": {},
     "output_type": "execute_result"
    }
   ],
   "source": [
    "Probability"
   ]
  },
  {
   "cell_type": "code",
   "execution_count": 68,
   "id": "20fc58e2",
   "metadata": {},
   "outputs": [],
   "source": [
    "Y_true = (test_data['Y'].to_frame().T).values.ravel()\n",
    "fpr, tpr, _ = metrics.roc_curve(Y_true, Y_pred)\n",
    "Y_pred_probs_class_1 = Y_pred_probs[:, 1]"
   ]
  },
  {
   "cell_type": "markdown",
   "id": "9081b9b9",
   "metadata": {},
   "source": [
    "**Третий ответ**"
   ]
  },
  {
   "cell_type": "code",
   "execution_count": 65,
   "id": "cb83cf75",
   "metadata": {},
   "outputs": [
    {
     "data": {
      "text/plain": [
       "0.6"
      ]
     },
     "execution_count": 65,
     "metadata": {},
     "output_type": "execute_result"
    }
   ],
   "source": [
    "metrics.recall_score(Y_true, Y_pred)"
   ]
  },
  {
   "cell_type": "markdown",
   "id": "8e3268ef",
   "metadata": {},
   "source": [
    "**Четвертый ответ**"
   ]
  },
  {
   "cell_type": "code",
   "execution_count": 66,
   "id": "77d41d9f",
   "metadata": {},
   "outputs": [
    {
     "data": {
      "text/plain": [
       "0.5"
      ]
     },
     "execution_count": 66,
     "metadata": {},
     "output_type": "execute_result"
    }
   ],
   "source": [
    "metrics.precision_score(Y_true, Y_pred)"
   ]
  },
  {
   "cell_type": "markdown",
   "id": "4b12305d",
   "metadata": {},
   "source": [
    "**Пятый ответ**"
   ]
  },
  {
   "cell_type": "code",
   "execution_count": 69,
   "id": "2d6226c7",
   "metadata": {},
   "outputs": [
    {
     "data": {
      "text/plain": [
       "0.8799999999999999"
      ]
     },
     "execution_count": 69,
     "metadata": {},
     "output_type": "execute_result"
    }
   ],
   "source": [
    "metrics.roc_auc_score(Y_true, Y_pred_probs_class_1)"
   ]
  }
 ],
 "metadata": {
  "kernelspec": {
   "display_name": "Python 3",
   "language": "python",
   "name": "python3"
  },
  "language_info": {
   "codemirror_mode": {
    "name": "ipython",
    "version": 3
   },
   "file_extension": ".py",
   "mimetype": "text/x-python",
   "name": "python",
   "nbconvert_exporter": "python",
   "pygments_lexer": "ipython3",
   "version": "3.8.5"
  }
 },
 "nbformat": 4,
 "nbformat_minor": 5
}
