{
 "cells": [
  {
   "cell_type": "markdown",
   "id": "48f6b804",
   "metadata": {},
   "source": [
    "## Образец заданий из зачета"
   ]
  },
  {
   "cell_type": "markdown",
   "id": "8c76e2d2",
   "metadata": {},
   "source": [
    "_Тут не все решения, ибо автору стало лень_  \n",
    "_но на зачет 60% хватит_"
   ]
  },
  {
   "cell_type": "markdown",
   "id": "0e643c7e",
   "metadata": {},
   "source": [
    "### задача 1"
   ]
  },
  {
   "cell_type": "markdown",
   "id": "d7f78cef",
   "metadata": {},
   "source": [
    "Полностью соотвествует первому упражнению"
   ]
  },
  {
   "cell_type": "markdown",
   "id": "5cef6ccf",
   "metadata": {},
   "source": [
    "SELECT * FROM pulsar_stars WHERE ((TARGET = 0 AND MIP >=83 AND MIP <=84) OR (TARGET = 1 AND MIP >=83 AND MIP <=89)) "
   ]
  },
  {
   "cell_type": "markdown",
   "id": "a65ed50c",
   "metadata": {},
   "source": [
    "**Первый ответы** это число строк в базе данных"
   ]
  },
  {
   "cell_type": "code",
   "execution_count": 1,
   "id": "b51c4961",
   "metadata": {},
   "outputs": [],
   "source": [
    "import pandas as pd\n",
    "from sklearn.preprocessing import MinMaxScaler"
   ]
  },
  {
   "cell_type": "code",
   "execution_count": 2,
   "id": "3f867c70",
   "metadata": {},
   "outputs": [
    {
     "data": {
      "text/html": [
       "<div>\n",
       "<style scoped>\n",
       "    .dataframe tbody tr th:only-of-type {\n",
       "        vertical-align: middle;\n",
       "    }\n",
       "\n",
       "    .dataframe tbody tr th {\n",
       "        vertical-align: top;\n",
       "    }\n",
       "\n",
       "    .dataframe thead th {\n",
       "        text-align: right;\n",
       "    }\n",
       "</style>\n",
       "<table border=\"1\" class=\"dataframe\">\n",
       "  <thead>\n",
       "    <tr style=\"text-align: right;\">\n",
       "      <th></th>\n",
       "      <th>MIP</th>\n",
       "      <th>STDIP</th>\n",
       "      <th>EKIP</th>\n",
       "      <th>SIP</th>\n",
       "      <th>MC</th>\n",
       "      <th>STDC</th>\n",
       "      <th>EKC</th>\n",
       "      <th>SC</th>\n",
       "      <th>TARGET</th>\n",
       "    </tr>\n",
       "  </thead>\n",
       "  <tbody>\n",
       "    <tr>\n",
       "      <th>0</th>\n",
       "      <td>84.742188</td>\n",
       "      <td>40.007274</td>\n",
       "      <td>1.368957</td>\n",
       "      <td>3.812073</td>\n",
       "      <td>5.736622</td>\n",
       "      <td>32.047311</td>\n",
       "      <td>5.979603</td>\n",
       "      <td>36.147975</td>\n",
       "      <td>1</td>\n",
       "    </tr>\n",
       "    <tr>\n",
       "      <th>1</th>\n",
       "      <td>83.679688</td>\n",
       "      <td>36.379281</td>\n",
       "      <td>0.572532</td>\n",
       "      <td>2.664611</td>\n",
       "      <td>4.040970</td>\n",
       "      <td>23.169129</td>\n",
       "      <td>7.006681</td>\n",
       "      <td>53.514005</td>\n",
       "      <td>0</td>\n",
       "    </tr>\n",
       "    <tr>\n",
       "      <th>2</th>\n",
       "      <td>83.968750</td>\n",
       "      <td>32.786939</td>\n",
       "      <td>0.972955</td>\n",
       "      <td>4.940515</td>\n",
       "      <td>1.638796</td>\n",
       "      <td>11.934603</td>\n",
       "      <td>12.157317</td>\n",
       "      <td>199.321879</td>\n",
       "      <td>0</td>\n",
       "    </tr>\n",
       "    <tr>\n",
       "      <th>3</th>\n",
       "      <td>83.531250</td>\n",
       "      <td>42.521674</td>\n",
       "      <td>0.581761</td>\n",
       "      <td>1.230803</td>\n",
       "      <td>3.428094</td>\n",
       "      <td>17.796434</td>\n",
       "      <td>7.050442</td>\n",
       "      <td>61.662594</td>\n",
       "      <td>0</td>\n",
       "    </tr>\n",
       "    <tr>\n",
       "      <th>4</th>\n",
       "      <td>88.437500</td>\n",
       "      <td>37.811777</td>\n",
       "      <td>0.689216</td>\n",
       "      <td>2.035294</td>\n",
       "      <td>2.415552</td>\n",
       "      <td>18.027953</td>\n",
       "      <td>8.828613</td>\n",
       "      <td>86.799894</td>\n",
       "      <td>1</td>\n",
       "    </tr>\n",
       "    <tr>\n",
       "      <th>...</th>\n",
       "      <td>...</td>\n",
       "      <td>...</td>\n",
       "      <td>...</td>\n",
       "      <td>...</td>\n",
       "      <td>...</td>\n",
       "      <td>...</td>\n",
       "      <td>...</td>\n",
       "      <td>...</td>\n",
       "      <td>...</td>\n",
       "    </tr>\n",
       "    <tr>\n",
       "      <th>131</th>\n",
       "      <td>84.054688</td>\n",
       "      <td>51.992083</td>\n",
       "      <td>0.818566</td>\n",
       "      <td>0.037858</td>\n",
       "      <td>158.000836</td>\n",
       "      <td>95.239274</td>\n",
       "      <td>-0.799085</td>\n",
       "      <td>-1.044223</td>\n",
       "      <td>1</td>\n",
       "    </tr>\n",
       "    <tr>\n",
       "      <th>132</th>\n",
       "      <td>83.710938</td>\n",
       "      <td>37.365415</td>\n",
       "      <td>0.659945</td>\n",
       "      <td>2.423515</td>\n",
       "      <td>4.178094</td>\n",
       "      <td>23.202703</td>\n",
       "      <td>6.532946</td>\n",
       "      <td>46.378170</td>\n",
       "      <td>0</td>\n",
       "    </tr>\n",
       "    <tr>\n",
       "      <th>133</th>\n",
       "      <td>84.695312</td>\n",
       "      <td>49.348499</td>\n",
       "      <td>0.960378</td>\n",
       "      <td>1.102570</td>\n",
       "      <td>5.490803</td>\n",
       "      <td>27.764100</td>\n",
       "      <td>6.181768</td>\n",
       "      <td>40.399247</td>\n",
       "      <td>1</td>\n",
       "    </tr>\n",
       "    <tr>\n",
       "      <th>134</th>\n",
       "      <td>83.773438</td>\n",
       "      <td>52.279031</td>\n",
       "      <td>1.206698</td>\n",
       "      <td>1.630834</td>\n",
       "      <td>97.373746</td>\n",
       "      <td>90.905524</td>\n",
       "      <td>0.132639</td>\n",
       "      <td>-1.683188</td>\n",
       "      <td>1</td>\n",
       "    </tr>\n",
       "    <tr>\n",
       "      <th>135</th>\n",
       "      <td>83.507812</td>\n",
       "      <td>34.670321</td>\n",
       "      <td>1.079368</td>\n",
       "      <td>3.660143</td>\n",
       "      <td>1.545987</td>\n",
       "      <td>15.268184</td>\n",
       "      <td>11.980909</td>\n",
       "      <td>159.930732</td>\n",
       "      <td>0</td>\n",
       "    </tr>\n",
       "  </tbody>\n",
       "</table>\n",
       "<p>136 rows × 9 columns</p>\n",
       "</div>"
      ],
      "text/plain": [
       "           MIP      STDIP      EKIP       SIP          MC       STDC  \\\n",
       "0    84.742188  40.007274  1.368957  3.812073    5.736622  32.047311   \n",
       "1    83.679688  36.379281  0.572532  2.664611    4.040970  23.169129   \n",
       "2    83.968750  32.786939  0.972955  4.940515    1.638796  11.934603   \n",
       "3    83.531250  42.521674  0.581761  1.230803    3.428094  17.796434   \n",
       "4    88.437500  37.811777  0.689216  2.035294    2.415552  18.027953   \n",
       "..         ...        ...       ...       ...         ...        ...   \n",
       "131  84.054688  51.992083  0.818566  0.037858  158.000836  95.239274   \n",
       "132  83.710938  37.365415  0.659945  2.423515    4.178094  23.202703   \n",
       "133  84.695312  49.348499  0.960378  1.102570    5.490803  27.764100   \n",
       "134  83.773438  52.279031  1.206698  1.630834   97.373746  90.905524   \n",
       "135  83.507812  34.670321  1.079368  3.660143    1.545987  15.268184   \n",
       "\n",
       "           EKC          SC  TARGET  \n",
       "0     5.979603   36.147975       1  \n",
       "1     7.006681   53.514005       0  \n",
       "2    12.157317  199.321879       0  \n",
       "3     7.050442   61.662594       0  \n",
       "4     8.828613   86.799894       1  \n",
       "..         ...         ...     ...  \n",
       "131  -0.799085   -1.044223       1  \n",
       "132   6.532946   46.378170       0  \n",
       "133   6.181768   40.399247       1  \n",
       "134   0.132639   -1.683188       1  \n",
       "135  11.980909  159.930732       0  \n",
       "\n",
       "[136 rows x 9 columns]"
      ]
     },
     "execution_count": 2,
     "metadata": {},
     "output_type": "execute_result"
    }
   ],
   "source": [
    "df = pd.read_csv(\"report.csv\")\n",
    "df"
   ]
  },
  {
   "cell_type": "markdown",
   "id": "653dfd54",
   "metadata": {},
   "source": [
    "**Второй ответ** тут уже придется запомнить, но  \n",
    "Сверху мы импортировали MinMaxScaler  \n",
    "А снизу просто создали новую бд"
   ]
  },
  {
   "cell_type": "code",
   "execution_count": 3,
   "id": "b05bf4f9",
   "metadata": {},
   "outputs": [
    {
     "data": {
      "text/plain": [
       "0.26595638255302184"
      ]
     },
     "execution_count": 3,
     "metadata": {},
     "output_type": "execute_result"
    }
   ],
   "source": [
    "scaler = MinMaxScaler() # Дали функции имя\n",
    "names = df.columns # Запомнили названия колонок\n",
    "d = scaler.fit_transform(df) #Преобразовали данные\n",
    "scaled_df = pd.DataFrame(d, columns=names) #Создали бд использовав даные до этого\n",
    "\n",
    "scaled_df[\"MIP\"].mean() # Высилили выборочное среднее"
   ]
  },
  {
   "cell_type": "markdown",
   "id": "eb42b566",
   "metadata": {},
   "source": [
    "Тут уже берется 3 упражнение"
   ]
  },
  {
   "cell_type": "code",
   "execution_count": 4,
   "id": "d4783dc4",
   "metadata": {},
   "outputs": [],
   "source": [
    "from sklearn.linear_model import LogisticRegression # Импортируем"
   ]
  },
  {
   "cell_type": "code",
   "execution_count": 5,
   "id": "cb5b0c5b",
   "metadata": {},
   "outputs": [],
   "source": [
    "X = pd.DataFrame(scaled_df.drop(['TARGET'], axis=1)) # Сюда заносим уже обработанную базу но без TARGET\n",
    "Y = pd.DataFrame(scaled_df['TARGET']) # Сюда только TARGET"
   ]
  },
  {
   "cell_type": "code",
   "execution_count": 6,
   "id": "649587a3",
   "metadata": {},
   "outputs": [],
   "source": [
    "reg = LogisticRegression(random_state=2019, solver='lbfgs').fit(X, Y.values.ravel())"
   ]
  },
  {
   "cell_type": "markdown",
   "id": "2f587ef8",
   "metadata": {},
   "source": [
    "**Третий ответ**  \n",
    "Первое значение \"не пульсар\""
   ]
  },
  {
   "cell_type": "code",
   "execution_count": 7,
   "id": "8cec14e9",
   "metadata": {},
   "outputs": [
    {
     "data": {
      "text/plain": [
       "array([[0.72644503, 0.27355497]])"
      ]
     },
     "execution_count": 7,
     "metadata": {},
     "output_type": "execute_result"
    }
   ],
   "source": [
    "reg.predict_proba([[0.1,0.1,0.1,0.1,0.1,0.1,0.1,0.1]]) # Здесь вводим данные звезды"
   ]
  },
  {
   "cell_type": "code",
   "execution_count": 8,
   "id": "4de9deae",
   "metadata": {},
   "outputs": [],
   "source": [
    "from sklearn.neighbors import KNeighborsClassifier # Импортируем"
   ]
  },
  {
   "cell_type": "markdown",
   "id": "10cd7ca0",
   "metadata": {},
   "source": [
    "Запускаем те же команды, только для Y сразу ставим values.ravel"
   ]
  },
  {
   "cell_type": "code",
   "execution_count": 9,
   "id": "033437a9",
   "metadata": {},
   "outputs": [],
   "source": [
    "X2 = pd.DataFrame(scaled_df.drop(['TARGET'], axis=1))\n",
    "Y2 = pd.DataFrame(scaled_df['TARGET']).values.ravel()"
   ]
  },
  {
   "cell_type": "markdown",
   "id": "b058b971",
   "metadata": {},
   "source": [
    "Тут запоминаем, что надо ставить p=1 это манхетенское"
   ]
  },
  {
   "cell_type": "code",
   "execution_count": 10,
   "id": "56e131e8",
   "metadata": {},
   "outputs": [
    {
     "data": {
      "text/plain": [
       "KNeighborsClassifier(n_neighbors=3, p=1)"
      ]
     },
     "execution_count": 10,
     "metadata": {},
     "output_type": "execute_result"
    }
   ],
   "source": [
    "Manhattan = KNeighborsClassifier(n_neighbors=3, p=1)\n",
    "Manhattan.fit(X2, Y2)"
   ]
  },
  {
   "cell_type": "markdown",
   "id": "851b01d4",
   "metadata": {},
   "source": [
    "Отсюда берем первое значение"
   ]
  },
  {
   "cell_type": "code",
   "execution_count": 11,
   "id": "74043b8b",
   "metadata": {},
   "outputs": [
    {
     "data": {
      "text/plain": [
       "(array([[0.5479    , 0.56068203, 0.57204809]]),\n",
       " array([[122, 132,   1]], dtype=int64))"
      ]
     },
     "execution_count": 11,
     "metadata": {},
     "output_type": "execute_result"
    }
   ],
   "source": [
    "Manhattan.kneighbors([[0.1,0.1,0.1,0.1,0.1,0.1,0.1,0.1]])"
   ]
  },
  {
   "cell_type": "markdown",
   "id": "a5217b27",
   "metadata": {},
   "source": [
    "### Задача 2"
   ]
  },
  {
   "cell_type": "code",
   "execution_count": null,
   "id": "3aa86384",
   "metadata": {},
   "outputs": [],
   "source": [
    "!pip install --upgrade pip\n",
    "!pip install --upgrade scikit-learn==0.23.0"
   ]
  },
  {
   "cell_type": "code",
   "execution_count": 12,
   "id": "a74f188d",
   "metadata": {},
   "outputs": [],
   "source": [
    "import numpy as np\n",
    "import matplotlib\n",
    "import matplotlib.pyplot as plt\n",
    "%matplotlib inline"
   ]
  },
  {
   "cell_type": "code",
   "execution_count": 13,
   "id": "c44718a6",
   "metadata": {},
   "outputs": [],
   "source": [
    "from keras.datasets import mnist\n",
    "(X_train, y_train), (X_pred, y_pred) = mnist.load_data()"
   ]
  },
  {
   "cell_type": "code",
   "execution_count": 14,
   "id": "287ff7c5",
   "metadata": {},
   "outputs": [],
   "source": [
    "dim = 784 # 28*28 \n",
    "X_train_reshape = X_train.reshape(len(X_train), dim)"
   ]
  },
  {
   "cell_type": "code",
   "execution_count": 15,
   "id": "a0809368",
   "metadata": {},
   "outputs": [],
   "source": [
    "from sklearn.decomposition import PCA\n",
    "pca = PCA(svd_solver='full')\n",
    "pca = pca.fit(X_train_reshape) "
   ]
  },
  {
   "cell_type": "markdown",
   "id": "8834a392",
   "metadata": {},
   "source": [
    "**Первый ответ второй задачи**  \n",
    "_Тут уже хватит на зачет_"
   ]
  },
  {
   "cell_type": "code",
   "execution_count": 16,
   "id": "57169133",
   "metadata": {},
   "outputs": [
    {
     "name": "stdout",
     "output_type": "stream",
     "text": [
      "52\n"
     ]
    }
   ],
   "source": [
    "M = np.cumsum(pca.explained_variance_ratio_)\n",
    "for i, value in enumerate(M):\n",
    "    if (value>0.83):\n",
    "        print(i+1)\n",
    "        break"
   ]
  },
  {
   "cell_type": "code",
   "execution_count": 17,
   "id": "7a68d4d2",
   "metadata": {},
   "outputs": [],
   "source": [
    "from sklearn.model_selection import train_test_split\n",
    "X_train = X_train.reshape(len(X_train), dim)"
   ]
  },
  {
   "cell_type": "code",
   "execution_count": 18,
   "id": "8a514117",
   "metadata": {},
   "outputs": [],
   "source": [
    "pca = PCA(n_components=52, svd_solver='full')\n",
    "pca = pca.fit(X_train)\n",
    "\n",
    "X_train, X_test, y_train, y_test = train_test_split(X_train, y_train, test_size=0.3, random_state=126)"
   ]
  },
  {
   "cell_type": "code",
   "execution_count": 19,
   "id": "4932badf",
   "metadata": {},
   "outputs": [],
   "source": [
    "\n",
    "X_train = pca.transform(X_train)\n",
    "X_test = pca.transform(X_test)"
   ]
  },
  {
   "cell_type": "markdown",
   "id": "6cc0d38f",
   "metadata": {},
   "source": [
    "**Второй ответ**  \n",
    "_Тут уже придется решать предыдущее, чтобы найти_"
   ]
  },
  {
   "cell_type": "code",
   "execution_count": 20,
   "id": "0499ddeb",
   "metadata": {},
   "outputs": [
    {
     "data": {
      "text/plain": [
       "0.5965431171660271"
      ]
     },
     "execution_count": 20,
     "metadata": {},
     "output_type": "execute_result"
    }
   ],
   "source": [
    "np.mean(X_train[:, 0])"
   ]
  },
  {
   "cell_type": "code",
   "execution_count": 21,
   "id": "d8461c7c",
   "metadata": {},
   "outputs": [],
   "source": [
    "from sklearn.multiclass import OneVsRestClassifier\n",
    "from sklearn.tree import DecisionTreeClassifier\n",
    "from sklearn.ensemble import RandomForestClassifier"
   ]
  },
  {
   "cell_type": "code",
   "execution_count": 22,
   "id": "7f8b7ee3",
   "metadata": {
    "scrolled": false
   },
   "outputs": [],
   "source": [
    "tree = RandomForestClassifier(criterion='gini', min_samples_leaf=10, max_depth=20, n_estimators=10, random_state=126)\n",
    "clf = OneVsRestClassifier(tree).fit(X_train, y_train)"
   ]
  },
  {
   "cell_type": "code",
   "execution_count": 23,
   "id": "ce6bbd5e",
   "metadata": {},
   "outputs": [],
   "source": [
    "y_pred = clf.predict(X_test)"
   ]
  },
  {
   "cell_type": "code",
   "execution_count": 24,
   "id": "958e029a",
   "metadata": {},
   "outputs": [],
   "source": [
    "from sklearn.metrics import confusion_matrix\n",
    "CM = confusion_matrix(y_test, y_pred)"
   ]
  },
  {
   "cell_type": "code",
   "execution_count": 25,
   "id": "84b6ff72",
   "metadata": {},
   "outputs": [
    {
     "data": {
      "text/plain": [
       "array([[1749,    0,    9,    5,    5,   12,   19,    5,   10,    3],\n",
       "       [   3, 1993,   12,    8,    0,    7,    7,    4,    7,    7],\n",
       "       [  23,    7, 1612,   24,   17,    6,   15,   24,   43,   13],\n",
       "       [   6,    5,   35, 1588,    5,   54,   13,   22,   43,   14],\n",
       "       [   4,    7,    8,    2, 1624,    2,   13,    7,   17,   61],\n",
       "       [  18,    3,   12,   57,   16, 1414,   31,    4,   30,   25],\n",
       "       [  15,    4,   16,    2,    6,   26, 1660,    0,    6,    1],\n",
       "       [   5,   19,   25,    4,   21,    4,    1, 1770,    7,   45],\n",
       "       [  15,   24,   30,   60,   14,   56,   10,   13, 1557,   25],\n",
       "       [  12,    9,   11,   28,   63,   14,    1,   44,   26, 1562]],\n",
       "      dtype=int64)"
      ]
     },
     "execution_count": 25,
     "metadata": {},
     "output_type": "execute_result"
    }
   ],
   "source": [
    "CM"
   ]
  },
  {
   "cell_type": "markdown",
   "id": "0bfa9982",
   "metadata": {},
   "source": [
    "**Третий ответ**  \n",
    "_Надо вставить значение, которое ищешь в 2 ячейки"
   ]
  },
  {
   "cell_type": "code",
   "execution_count": 26,
   "id": "e4d66fd0",
   "metadata": {},
   "outputs": [
    {
     "data": {
      "text/plain": [
       "1414"
      ]
     },
     "execution_count": 26,
     "metadata": {},
     "output_type": "execute_result"
    }
   ],
   "source": [
    "CM[5][5]"
   ]
  }
 ],
 "metadata": {
  "kernelspec": {
   "display_name": "Python 3",
   "language": "python",
   "name": "python3"
  },
  "language_info": {
   "codemirror_mode": {
    "name": "ipython",
    "version": 3
   },
   "file_extension": ".py",
   "mimetype": "text/x-python",
   "name": "python",
   "nbconvert_exporter": "python",
   "pygments_lexer": "ipython3",
   "version": "3.8.5"
  }
 },
 "nbformat": 4,
 "nbformat_minor": 5
}
