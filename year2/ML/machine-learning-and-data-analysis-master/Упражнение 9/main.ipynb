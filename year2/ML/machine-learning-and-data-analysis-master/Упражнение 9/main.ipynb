{
 "cells": [
  {
   "cell_type": "markdown",
   "id": "077ba17b",
   "metadata": {},
   "source": [
    "## Упражнение 9"
   ]
  },
  {
   "cell_type": "code",
   "execution_count": 1,
   "id": "49216168",
   "metadata": {},
   "outputs": [],
   "source": [
    "import numpy as np\n",
    "import pandas as pd\n",
    "from sklearn.cluster import KMeans"
   ]
  },
  {
   "cell_type": "code",
   "execution_count": 2,
   "id": "c1c6ec36",
   "metadata": {},
   "outputs": [],
   "source": [
    "df = pd.read_csv(\"kmeans.csv\", delimiter=',', index_col='Object')\n",
    "df_norm = df.drop('Cluster', axis=1)"
   ]
  },
  {
   "cell_type": "markdown",
   "id": "6ef101ad",
   "metadata": {},
   "source": [
    "Сюда вставить строку с параметрами"
   ]
  },
  {
   "cell_type": "code",
   "execution_count": 3,
   "id": "0d79a2be",
   "metadata": {},
   "outputs": [],
   "source": [
    "kmeans = KMeans(n_clusters=3, init=np.array([[12.67, 12.0], [8.0, 8.5], [5.57, 14.71]]), max_iter=100, n_init=1)\n",
    "model = kmeans.fit(df_norm)"
   ]
  },
  {
   "cell_type": "markdown",
   "id": "3e15f8e3",
   "metadata": {},
   "source": [
    "**Первый ответ**  \n",
    "Для удобства все сделано в таблице"
   ]
  },
  {
   "cell_type": "code",
   "execution_count": 4,
   "id": "83451cf4",
   "metadata": {
    "scrolled": false
   },
   "outputs": [
    {
     "data": {
      "text/html": [
       "<div>\n",
       "<style scoped>\n",
       "    .dataframe tbody tr th:only-of-type {\n",
       "        vertical-align: middle;\n",
       "    }\n",
       "\n",
       "    .dataframe tbody tr th {\n",
       "        vertical-align: top;\n",
       "    }\n",
       "\n",
       "    .dataframe thead th {\n",
       "        text-align: right;\n",
       "    }\n",
       "</style>\n",
       "<table border=\"1\" class=\"dataframe\">\n",
       "  <thead>\n",
       "    <tr style=\"text-align: right;\">\n",
       "      <th></th>\n",
       "      <th>X</th>\n",
       "      <th>Y</th>\n",
       "      <th>Clusters</th>\n",
       "    </tr>\n",
       "    <tr>\n",
       "      <th>Object</th>\n",
       "      <th></th>\n",
       "      <th></th>\n",
       "      <th></th>\n",
       "    </tr>\n",
       "  </thead>\n",
       "  <tbody>\n",
       "    <tr>\n",
       "      <th>1</th>\n",
       "      <td>15</td>\n",
       "      <td>1</td>\n",
       "      <td>1</td>\n",
       "    </tr>\n",
       "    <tr>\n",
       "      <th>2</th>\n",
       "      <td>4</td>\n",
       "      <td>4</td>\n",
       "      <td>1</td>\n",
       "    </tr>\n",
       "    <tr>\n",
       "      <th>3</th>\n",
       "      <td>4</td>\n",
       "      <td>20</td>\n",
       "      <td>2</td>\n",
       "    </tr>\n",
       "    <tr>\n",
       "      <th>4</th>\n",
       "      <td>5</td>\n",
       "      <td>6</td>\n",
       "      <td>1</td>\n",
       "    </tr>\n",
       "    <tr>\n",
       "      <th>5</th>\n",
       "      <td>2</td>\n",
       "      <td>20</td>\n",
       "      <td>2</td>\n",
       "    </tr>\n",
       "    <tr>\n",
       "      <th>6</th>\n",
       "      <td>12</td>\n",
       "      <td>10</td>\n",
       "      <td>1</td>\n",
       "    </tr>\n",
       "    <tr>\n",
       "      <th>7</th>\n",
       "      <td>11</td>\n",
       "      <td>19</td>\n",
       "      <td>0</td>\n",
       "    </tr>\n",
       "    <tr>\n",
       "      <th>8</th>\n",
       "      <td>1</td>\n",
       "      <td>14</td>\n",
       "      <td>2</td>\n",
       "    </tr>\n",
       "    <tr>\n",
       "      <th>9</th>\n",
       "      <td>1</td>\n",
       "      <td>20</td>\n",
       "      <td>2</td>\n",
       "    </tr>\n",
       "    <tr>\n",
       "      <th>10</th>\n",
       "      <td>6</td>\n",
       "      <td>10</td>\n",
       "      <td>1</td>\n",
       "    </tr>\n",
       "    <tr>\n",
       "      <th>11</th>\n",
       "      <td>11</td>\n",
       "      <td>16</td>\n",
       "      <td>0</td>\n",
       "    </tr>\n",
       "    <tr>\n",
       "      <th>12</th>\n",
       "      <td>11</td>\n",
       "      <td>17</td>\n",
       "      <td>0</td>\n",
       "    </tr>\n",
       "    <tr>\n",
       "      <th>13</th>\n",
       "      <td>19</td>\n",
       "      <td>2</td>\n",
       "      <td>1</td>\n",
       "    </tr>\n",
       "    <tr>\n",
       "      <th>14</th>\n",
       "      <td>12</td>\n",
       "      <td>13</td>\n",
       "      <td>0</td>\n",
       "    </tr>\n",
       "    <tr>\n",
       "      <th>15</th>\n",
       "      <td>17</td>\n",
       "      <td>20</td>\n",
       "      <td>0</td>\n",
       "    </tr>\n",
       "  </tbody>\n",
       "</table>\n",
       "</div>"
      ],
      "text/plain": [
       "         X   Y  Clusters\n",
       "Object                  \n",
       "1       15   1         1\n",
       "2        4   4         1\n",
       "3        4  20         2\n",
       "4        5   6         1\n",
       "5        2  20         2\n",
       "6       12  10         1\n",
       "7       11  19         0\n",
       "8        1  14         2\n",
       "9        1  20         2\n",
       "10       6  10         1\n",
       "11      11  16         0\n",
       "12      11  17         0\n",
       "13      19   2         1\n",
       "14      12  13         0\n",
       "15      17  20         0"
      ]
     },
     "execution_count": 4,
     "metadata": {},
     "output_type": "execute_result"
    }
   ],
   "source": [
    "df_norm[\"Clusters\"] = model.labels_.tolist()\n",
    "df_norm"
   ]
  },
  {
   "cell_type": "code",
   "execution_count": 5,
   "id": "9d71d718",
   "metadata": {},
   "outputs": [],
   "source": [
    "alldistances = kmeans.fit_transform(df_norm.drop('Clusters',axis=1))"
   ]
  },
  {
   "cell_type": "markdown",
   "id": "62c923ef",
   "metadata": {},
   "source": [
    "**Второй ответ**  \n",
    "В _search_ писать кластер который должны искать"
   ]
  },
  {
   "cell_type": "code",
   "execution_count": 6,
   "id": "0751d5a3",
   "metadata": {},
   "outputs": [
    {
     "data": {
      "text/plain": [
       "3.0147077024204094"
      ]
     },
     "execution_count": 6,
     "metadata": {},
     "output_type": "execute_result"
    }
   ],
   "source": [
    "search = 0\n",
    "Clusters_array = []\n",
    "for i in range(len(df_norm['Clusters'])):\n",
    "  if (df_norm['Clusters'][i+1] == search):\n",
    "    Clusters_array.append(alldistances[i][search])\n",
    "sum(Clusters_array)/len(Clusters_array)"
   ]
  }
 ],
 "metadata": {
  "kernelspec": {
   "display_name": "Python 3",
   "language": "python",
   "name": "python3"
  },
  "language_info": {
   "codemirror_mode": {
    "name": "ipython",
    "version": 3
   },
   "file_extension": ".py",
   "mimetype": "text/x-python",
   "name": "python",
   "nbconvert_exporter": "python",
   "pygments_lexer": "ipython3",
   "version": "3.8.5"
  }
 },
 "nbformat": 4,
 "nbformat_minor": 5
}
