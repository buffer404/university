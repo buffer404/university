{
 "cells": [
  {
   "cell_type": "code",
   "execution_count": 2,
   "metadata": {},
   "outputs": [],
   "source": [
    "import pandas as pd\n",
    "import matplotlib\n",
    "import numpy as np\n",
    "import matplotlib.pyplot as plt\n",
    "%matplotlib inline "
   ]
  },
  {
   "cell_type": "code",
   "execution_count": 3,
   "metadata": {},
   "outputs": [],
   "source": [
    "df = pd.read_csv('diabetes.csv') "
   ]
  },
  {
   "cell_type": "code",
   "execution_count": 4,
   "metadata": {},
   "outputs": [
    {
     "data": {
      "text/html": [
       "<div>\n",
       "<style scoped>\n",
       "    .dataframe tbody tr th:only-of-type {\n",
       "        vertical-align: middle;\n",
       "    }\n",
       "\n",
       "    .dataframe tbody tr th {\n",
       "        vertical-align: top;\n",
       "    }\n",
       "\n",
       "    .dataframe thead th {\n",
       "        text-align: right;\n",
       "    }\n",
       "</style>\n",
       "<table border=\"1\" class=\"dataframe\">\n",
       "  <thead>\n",
       "    <tr style=\"text-align: right;\">\n",
       "      <th></th>\n",
       "      <th>Pregnancies</th>\n",
       "      <th>Glucose</th>\n",
       "      <th>BloodPressure</th>\n",
       "      <th>SkinThickness</th>\n",
       "      <th>Insulin</th>\n",
       "      <th>BMI</th>\n",
       "      <th>DiabetesPedigreeFunction</th>\n",
       "      <th>Age</th>\n",
       "      <th>Outcome</th>\n",
       "    </tr>\n",
       "  </thead>\n",
       "  <tbody>\n",
       "    <tr>\n",
       "      <th>0</th>\n",
       "      <td>6</td>\n",
       "      <td>148</td>\n",
       "      <td>72</td>\n",
       "      <td>35</td>\n",
       "      <td>0</td>\n",
       "      <td>33.6</td>\n",
       "      <td>0.627</td>\n",
       "      <td>50</td>\n",
       "      <td>1</td>\n",
       "    </tr>\n",
       "    <tr>\n",
       "      <th>1</th>\n",
       "      <td>1</td>\n",
       "      <td>85</td>\n",
       "      <td>66</td>\n",
       "      <td>29</td>\n",
       "      <td>0</td>\n",
       "      <td>26.6</td>\n",
       "      <td>0.351</td>\n",
       "      <td>31</td>\n",
       "      <td>0</td>\n",
       "    </tr>\n",
       "    <tr>\n",
       "      <th>2</th>\n",
       "      <td>8</td>\n",
       "      <td>183</td>\n",
       "      <td>64</td>\n",
       "      <td>0</td>\n",
       "      <td>0</td>\n",
       "      <td>23.3</td>\n",
       "      <td>0.672</td>\n",
       "      <td>32</td>\n",
       "      <td>1</td>\n",
       "    </tr>\n",
       "    <tr>\n",
       "      <th>3</th>\n",
       "      <td>1</td>\n",
       "      <td>89</td>\n",
       "      <td>66</td>\n",
       "      <td>23</td>\n",
       "      <td>94</td>\n",
       "      <td>28.1</td>\n",
       "      <td>0.167</td>\n",
       "      <td>21</td>\n",
       "      <td>0</td>\n",
       "    </tr>\n",
       "    <tr>\n",
       "      <th>4</th>\n",
       "      <td>0</td>\n",
       "      <td>137</td>\n",
       "      <td>40</td>\n",
       "      <td>35</td>\n",
       "      <td>168</td>\n",
       "      <td>43.1</td>\n",
       "      <td>2.288</td>\n",
       "      <td>33</td>\n",
       "      <td>1</td>\n",
       "    </tr>\n",
       "  </tbody>\n",
       "</table>\n",
       "</div>"
      ],
      "text/plain": [
       "   Pregnancies  Glucose  BloodPressure  SkinThickness  Insulin   BMI  \\\n",
       "0            6      148             72             35        0  33.6   \n",
       "1            1       85             66             29        0  26.6   \n",
       "2            8      183             64              0        0  23.3   \n",
       "3            1       89             66             23       94  28.1   \n",
       "4            0      137             40             35      168  43.1   \n",
       "\n",
       "   DiabetesPedigreeFunction  Age  Outcome  \n",
       "0                     0.627   50        1  \n",
       "1                     0.351   31        0  \n",
       "2                     0.672   32        1  \n",
       "3                     0.167   21        0  \n",
       "4                     2.288   33        1  "
      ]
     },
     "execution_count": 4,
     "metadata": {},
     "output_type": "execute_result"
    }
   ],
   "source": [
    "df.head()"
   ]
  },
  {
   "cell_type": "markdown",
   "metadata": {},
   "source": [
    "Отбор первых 590 строк:"
   ]
  },
  {
   "cell_type": "code",
   "execution_count": 5,
   "metadata": {},
   "outputs": [],
   "source": [
    "task_data = df.head(590)"
   ]
  },
  {
   "cell_type": "markdown",
   "metadata": {},
   "source": [
    "Вывод числа строк в получившейся выборке и относящихся к классу 1 (пациент болен диабетом)"
   ]
  },
  {
   "cell_type": "code",
   "execution_count": 6,
   "metadata": {},
   "outputs": [
    {
     "data": {
      "text/plain": [
       "204"
      ]
     },
     "execution_count": 6,
     "metadata": {},
     "output_type": "execute_result"
    }
   ],
   "source": [
    "len(task_data[task_data['Outcome'] == 1])"
   ]
  },
  {
   "cell_type": "markdown",
   "metadata": {},
   "source": [
    "Разделеные данных на тренировочные и тестовые. Первые 70% строк — тренировочные, остальные — тестовые."
   ]
  },
  {
   "cell_type": "code",
   "execution_count": 7,
   "metadata": {},
   "outputs": [],
   "source": [
    "train = task_data.head(int(len(task_data)*0.7))\n",
    "test = task_data.tail(int(len(task_data)*0.3))"
   ]
  },
  {
   "cell_type": "markdown",
   "metadata": {},
   "source": [
    "Выделяем предикторы (8 первых столбцов) и отклик (Outcome):"
   ]
  },
  {
   "cell_type": "code",
   "execution_count": 8,
   "metadata": {},
   "outputs": [],
   "source": [
    "features = list(train.columns[:8])\n",
    "x = train[features]\n",
    "y = train['Outcome']"
   ]
  },
  {
   "cell_type": "markdown",
   "metadata": {},
   "source": [
    "Подключем классификатор DecisionTreeClassifier:"
   ]
  },
  {
   "cell_type": "code",
   "execution_count": 9,
   "metadata": {},
   "outputs": [],
   "source": [
    "from sklearn.tree import DecisionTreeClassifier"
   ]
  },
  {
   "cell_type": "markdown",
   "metadata": {},
   "source": [
    "Задаем параметры дерева принятия решений и обучаем модель:"
   ]
  },
  {
   "cell_type": "code",
   "execution_count": 10,
   "metadata": {},
   "outputs": [],
   "source": [
    "tree = DecisionTreeClassifier(criterion='entropy', #критерий разделения\n",
    "                              min_samples_leaf=20, #минимальное число объектов в листе\n",
    "                              max_leaf_nodes=30, #максимальное число листьев\n",
    "                              random_state=2020)\n",
    "clf=tree.fit(x, y)"
   ]
  },
  {
   "cell_type": "markdown",
   "metadata": {},
   "source": [
    "Подключаем библиотеку для визуализации дерева. Сохраняем в файл и выводим на экран."
   ]
  },
  {
   "cell_type": "code",
   "execution_count": 11,
   "metadata": {},
   "outputs": [
    {
     "data": {
      "image/svg+xml": [
       "<?xml version=\"1.0\" encoding=\"UTF-8\" standalone=\"no\"?>\r\n",
       "<!DOCTYPE svg PUBLIC \"-//W3C//DTD SVG 1.1//EN\"\r\n",
       " \"http://www.w3.org/Graphics/SVG/1.1/DTD/svg11.dtd\">\r\n",
       "<!-- Generated by graphviz version 2.46.0 (20210118.1747)\r\n",
       " -->\r\n",
       "<!-- Title: Tree Pages: 1 -->\r\n",
       "<svg width=\"943pt\" height=\"909pt\"\r\n",
       " viewBox=\"0.00 0.00 942.50 909.00\" xmlns=\"http://www.w3.org/2000/svg\" xmlns:xlink=\"http://www.w3.org/1999/xlink\">\r\n",
       "<g id=\"graph0\" class=\"graph\" transform=\"scale(1 1) rotate(0) translate(4 905)\">\r\n",
       "<title>Tree</title>\r\n",
       "<polygon fill=\"white\" stroke=\"transparent\" points=\"-4,4 -4,-905 938.5,-905 938.5,4 -4,4\"/>\r\n",
       "<!-- 0 -->\r\n",
       "<g id=\"node1\" class=\"node\">\r\n",
       "<title>0</title>\r\n",
       "<path fill=\"#f5cfb4\" stroke=\"black\" d=\"M608,-901C608,-901 501,-901 501,-901 495,-901 489,-895 489,-889 489,-889 489,-830 489,-830 489,-824 495,-818 501,-818 501,-818 608,-818 608,-818 614,-818 620,-824 620,-830 620,-830 620,-889 620,-889 620,-895 614,-901 608,-901\"/>\r\n",
       "<text text-anchor=\"middle\" x=\"554.5\" y=\"-885.8\" font-family=\"Helvetica,sans-Serif\" font-size=\"14.00\">Glucose &lt;= 151.5</text>\r\n",
       "<text text-anchor=\"middle\" x=\"554.5\" y=\"-870.8\" font-family=\"Helvetica,sans-Serif\" font-size=\"14.00\">entropy = 0.96</text>\r\n",
       "<text text-anchor=\"middle\" x=\"554.5\" y=\"-855.8\" font-family=\"Helvetica,sans-Serif\" font-size=\"14.00\">samples = 413</text>\r\n",
       "<text text-anchor=\"middle\" x=\"554.5\" y=\"-840.8\" font-family=\"Helvetica,sans-Serif\" font-size=\"14.00\">value = [255, 158]</text>\r\n",
       "<text text-anchor=\"middle\" x=\"554.5\" y=\"-825.8\" font-family=\"Helvetica,sans-Serif\" font-size=\"14.00\">class = 0</text>\r\n",
       "</g>\r\n",
       "<!-- 1 -->\r\n",
       "<g id=\"node2\" class=\"node\">\r\n",
       "<title>1</title>\r\n",
       "<path fill=\"#f0b48a\" stroke=\"black\" d=\"M506.5,-782C506.5,-782 408.5,-782 408.5,-782 402.5,-782 396.5,-776 396.5,-770 396.5,-770 396.5,-711 396.5,-711 396.5,-705 402.5,-699 408.5,-699 408.5,-699 506.5,-699 506.5,-699 512.5,-699 518.5,-705 518.5,-711 518.5,-711 518.5,-770 518.5,-770 518.5,-776 512.5,-782 506.5,-782\"/>\r\n",
       "<text text-anchor=\"middle\" x=\"457.5\" y=\"-766.8\" font-family=\"Helvetica,sans-Serif\" font-size=\"14.00\">BMI &lt;= 26.9</text>\r\n",
       "<text text-anchor=\"middle\" x=\"457.5\" y=\"-751.8\" font-family=\"Helvetica,sans-Serif\" font-size=\"14.00\">entropy = 0.87</text>\r\n",
       "<text text-anchor=\"middle\" x=\"457.5\" y=\"-736.8\" font-family=\"Helvetica,sans-Serif\" font-size=\"14.00\">samples = 338</text>\r\n",
       "<text text-anchor=\"middle\" x=\"457.5\" y=\"-721.8\" font-family=\"Helvetica,sans-Serif\" font-size=\"14.00\">value = [240, 98]</text>\r\n",
       "<text text-anchor=\"middle\" x=\"457.5\" y=\"-706.8\" font-family=\"Helvetica,sans-Serif\" font-size=\"14.00\">class = 0</text>\r\n",
       "</g>\r\n",
       "<!-- 0&#45;&gt;1 -->\r\n",
       "<g id=\"edge1\" class=\"edge\">\r\n",
       "<title>0&#45;&gt;1</title>\r\n",
       "<path fill=\"none\" stroke=\"black\" d=\"M520.85,-817.91C513.32,-808.83 505.27,-799.12 497.52,-789.77\"/>\r\n",
       "<polygon fill=\"black\" stroke=\"black\" points=\"500.17,-787.49 491.09,-782.02 494.78,-791.95 500.17,-787.49\"/>\r\n",
       "<text text-anchor=\"middle\" x=\"488.77\" y=\"-803.21\" font-family=\"Helvetica,sans-Serif\" font-size=\"14.00\">True</text>\r\n",
       "</g>\r\n",
       "<!-- 2 -->\r\n",
       "<g id=\"node25\" class=\"node\">\r\n",
       "<title>2</title>\r\n",
       "<path fill=\"#6ab6ec\" stroke=\"black\" d=\"M754.5,-782C754.5,-782 548.5,-782 548.5,-782 542.5,-782 536.5,-776 536.5,-770 536.5,-770 536.5,-711 536.5,-711 536.5,-705 542.5,-699 548.5,-699 548.5,-699 754.5,-699 754.5,-699 760.5,-699 766.5,-705 766.5,-711 766.5,-711 766.5,-770 766.5,-770 766.5,-776 760.5,-782 754.5,-782\"/>\r\n",
       "<text text-anchor=\"middle\" x=\"651.5\" y=\"-766.8\" font-family=\"Helvetica,sans-Serif\" font-size=\"14.00\">DiabetesPedigreeFunction &lt;= 0.3</text>\r\n",
       "<text text-anchor=\"middle\" x=\"651.5\" y=\"-751.8\" font-family=\"Helvetica,sans-Serif\" font-size=\"14.00\">entropy = 0.72</text>\r\n",
       "<text text-anchor=\"middle\" x=\"651.5\" y=\"-736.8\" font-family=\"Helvetica,sans-Serif\" font-size=\"14.00\">samples = 75</text>\r\n",
       "<text text-anchor=\"middle\" x=\"651.5\" y=\"-721.8\" font-family=\"Helvetica,sans-Serif\" font-size=\"14.00\">value = [15, 60]</text>\r\n",
       "<text text-anchor=\"middle\" x=\"651.5\" y=\"-706.8\" font-family=\"Helvetica,sans-Serif\" font-size=\"14.00\">class = 1</text>\r\n",
       "</g>\r\n",
       "<!-- 0&#45;&gt;2 -->\r\n",
       "<g id=\"edge24\" class=\"edge\">\r\n",
       "<title>0&#45;&gt;2</title>\r\n",
       "<path fill=\"none\" stroke=\"black\" d=\"M588.15,-817.91C595.68,-808.83 603.73,-799.12 611.48,-789.77\"/>\r\n",
       "<polygon fill=\"black\" stroke=\"black\" points=\"614.22,-791.95 617.91,-782.02 608.83,-787.49 614.22,-791.95\"/>\r\n",
       "<text text-anchor=\"middle\" x=\"620.23\" y=\"-803.21\" font-family=\"Helvetica,sans-Serif\" font-size=\"14.00\">False</text>\r\n",
       "</g>\r\n",
       "<!-- 3 -->\r\n",
       "<g id=\"node3\" class=\"node\">\r\n",
       "<title>3</title>\r\n",
       "<path fill=\"#e78945\" stroke=\"black\" d=\"M296,-663C296,-663 189,-663 189,-663 183,-663 177,-657 177,-651 177,-651 177,-592 177,-592 177,-586 183,-580 189,-580 189,-580 296,-580 296,-580 302,-580 308,-586 308,-592 308,-592 308,-651 308,-651 308,-657 302,-663 296,-663\"/>\r\n",
       "<text text-anchor=\"middle\" x=\"242.5\" y=\"-647.8\" font-family=\"Helvetica,sans-Serif\" font-size=\"14.00\">Glucose &lt;= 105.5</text>\r\n",
       "<text text-anchor=\"middle\" x=\"242.5\" y=\"-632.8\" font-family=\"Helvetica,sans-Serif\" font-size=\"14.00\">entropy = 0.31</text>\r\n",
       "<text text-anchor=\"middle\" x=\"242.5\" y=\"-617.8\" font-family=\"Helvetica,sans-Serif\" font-size=\"14.00\">samples = 88</text>\r\n",
       "<text text-anchor=\"middle\" x=\"242.5\" y=\"-602.8\" font-family=\"Helvetica,sans-Serif\" font-size=\"14.00\">value = [83, 5]</text>\r\n",
       "<text text-anchor=\"middle\" x=\"242.5\" y=\"-587.8\" font-family=\"Helvetica,sans-Serif\" font-size=\"14.00\">class = 0</text>\r\n",
       "</g>\r\n",
       "<!-- 1&#45;&gt;3 -->\r\n",
       "<g id=\"edge2\" class=\"edge\">\r\n",
       "<title>1&#45;&gt;3</title>\r\n",
       "<path fill=\"none\" stroke=\"black\" d=\"M396.46,-706.29C371.81,-692.87 343.12,-677.26 317.23,-663.17\"/>\r\n",
       "<polygon fill=\"black\" stroke=\"black\" points=\"318.66,-659.96 308.2,-658.25 315.31,-666.11 318.66,-659.96\"/>\r\n",
       "</g>\r\n",
       "<!-- 4 -->\r\n",
       "<g id=\"node8\" class=\"node\">\r\n",
       "<title>4</title>\r\n",
       "<path fill=\"#f4ccae\" stroke=\"black\" d=\"M523.5,-663C523.5,-663 425.5,-663 425.5,-663 419.5,-663 413.5,-657 413.5,-651 413.5,-651 413.5,-592 413.5,-592 413.5,-586 419.5,-580 425.5,-580 425.5,-580 523.5,-580 523.5,-580 529.5,-580 535.5,-586 535.5,-592 535.5,-592 535.5,-651 535.5,-651 535.5,-657 529.5,-663 523.5,-663\"/>\r\n",
       "<text text-anchor=\"middle\" x=\"474.5\" y=\"-647.8\" font-family=\"Helvetica,sans-Serif\" font-size=\"14.00\">Glucose &lt;= 99.5</text>\r\n",
       "<text text-anchor=\"middle\" x=\"474.5\" y=\"-632.8\" font-family=\"Helvetica,sans-Serif\" font-size=\"14.00\">entropy = 0.95</text>\r\n",
       "<text text-anchor=\"middle\" x=\"474.5\" y=\"-617.8\" font-family=\"Helvetica,sans-Serif\" font-size=\"14.00\">samples = 250</text>\r\n",
       "<text text-anchor=\"middle\" x=\"474.5\" y=\"-602.8\" font-family=\"Helvetica,sans-Serif\" font-size=\"14.00\">value = [157, 93]</text>\r\n",
       "<text text-anchor=\"middle\" x=\"474.5\" y=\"-587.8\" font-family=\"Helvetica,sans-Serif\" font-size=\"14.00\">class = 0</text>\r\n",
       "</g>\r\n",
       "<!-- 1&#45;&gt;4 -->\r\n",
       "<g id=\"edge7\" class=\"edge\">\r\n",
       "<title>1&#45;&gt;4</title>\r\n",
       "<path fill=\"none\" stroke=\"black\" d=\"M463.4,-698.91C464.61,-690.56 465.9,-681.67 467.16,-673.02\"/>\r\n",
       "<polygon fill=\"black\" stroke=\"black\" points=\"470.64,-673.42 468.61,-663.02 463.71,-672.41 470.64,-673.42\"/>\r\n",
       "</g>\r\n",
       "<!-- 17 -->\r\n",
       "<g id=\"node4\" class=\"node\">\r\n",
       "<title>17</title>\r\n",
       "<path fill=\"#e58139\" stroke=\"black\" d=\"M93,-536.5C93,-536.5 12,-536.5 12,-536.5 6,-536.5 0,-530.5 0,-524.5 0,-524.5 0,-480.5 0,-480.5 0,-474.5 6,-468.5 12,-468.5 12,-468.5 93,-468.5 93,-468.5 99,-468.5 105,-474.5 105,-480.5 105,-480.5 105,-524.5 105,-524.5 105,-530.5 99,-536.5 93,-536.5\"/>\r\n",
       "<text text-anchor=\"middle\" x=\"52.5\" y=\"-521.3\" font-family=\"Helvetica,sans-Serif\" font-size=\"14.00\">entropy = 0.0</text>\r\n",
       "<text text-anchor=\"middle\" x=\"52.5\" y=\"-506.3\" font-family=\"Helvetica,sans-Serif\" font-size=\"14.00\">samples = 47</text>\r\n",
       "<text text-anchor=\"middle\" x=\"52.5\" y=\"-491.3\" font-family=\"Helvetica,sans-Serif\" font-size=\"14.00\">value = [47, 0]</text>\r\n",
       "<text text-anchor=\"middle\" x=\"52.5\" y=\"-476.3\" font-family=\"Helvetica,sans-Serif\" font-size=\"14.00\">class = 0</text>\r\n",
       "</g>\r\n",
       "<!-- 3&#45;&gt;17 -->\r\n",
       "<g id=\"edge3\" class=\"edge\">\r\n",
       "<title>3&#45;&gt;17</title>\r\n",
       "<path fill=\"none\" stroke=\"black\" d=\"M176.82,-582.42C156.4,-570.35 133.9,-556.81 113.5,-544 112.56,-543.41 111.61,-542.81 110.66,-542.21\"/>\r\n",
       "<polygon fill=\"black\" stroke=\"black\" points=\"112.28,-539.09 101.97,-536.65 108.5,-544.98 112.28,-539.09\"/>\r\n",
       "</g>\r\n",
       "<!-- 18 -->\r\n",
       "<g id=\"node5\" class=\"node\">\r\n",
       "<title>18</title>\r\n",
       "<path fill=\"#e99254\" stroke=\"black\" d=\"M350,-544C350,-544 135,-544 135,-544 129,-544 123,-538 123,-532 123,-532 123,-473 123,-473 123,-467 129,-461 135,-461 135,-461 350,-461 350,-461 356,-461 362,-467 362,-473 362,-473 362,-532 362,-532 362,-538 356,-544 350,-544\"/>\r\n",
       "<text text-anchor=\"middle\" x=\"242.5\" y=\"-528.8\" font-family=\"Helvetica,sans-Serif\" font-size=\"14.00\">DiabetesPedigreeFunction &lt;= 0.27</text>\r\n",
       "<text text-anchor=\"middle\" x=\"242.5\" y=\"-513.8\" font-family=\"Helvetica,sans-Serif\" font-size=\"14.00\">entropy = 0.53</text>\r\n",
       "<text text-anchor=\"middle\" x=\"242.5\" y=\"-498.8\" font-family=\"Helvetica,sans-Serif\" font-size=\"14.00\">samples = 41</text>\r\n",
       "<text text-anchor=\"middle\" x=\"242.5\" y=\"-483.8\" font-family=\"Helvetica,sans-Serif\" font-size=\"14.00\">value = [36, 5]</text>\r\n",
       "<text text-anchor=\"middle\" x=\"242.5\" y=\"-468.8\" font-family=\"Helvetica,sans-Serif\" font-size=\"14.00\">class = 0</text>\r\n",
       "</g>\r\n",
       "<!-- 3&#45;&gt;18 -->\r\n",
       "<g id=\"edge4\" class=\"edge\">\r\n",
       "<title>3&#45;&gt;18</title>\r\n",
       "<path fill=\"none\" stroke=\"black\" d=\"M242.5,-579.91C242.5,-571.65 242.5,-562.86 242.5,-554.3\"/>\r\n",
       "<polygon fill=\"black\" stroke=\"black\" points=\"246,-554.02 242.5,-544.02 239,-554.02 246,-554.02\"/>\r\n",
       "</g>\r\n",
       "<!-- 27 -->\r\n",
       "<g id=\"node6\" class=\"node\">\r\n",
       "<title>27</title>\r\n",
       "<path fill=\"#e68743\" stroke=\"black\" d=\"M158.5,-417.5C158.5,-417.5 74.5,-417.5 74.5,-417.5 68.5,-417.5 62.5,-411.5 62.5,-405.5 62.5,-405.5 62.5,-361.5 62.5,-361.5 62.5,-355.5 68.5,-349.5 74.5,-349.5 74.5,-349.5 158.5,-349.5 158.5,-349.5 164.5,-349.5 170.5,-355.5 170.5,-361.5 170.5,-361.5 170.5,-405.5 170.5,-405.5 170.5,-411.5 164.5,-417.5 158.5,-417.5\"/>\r\n",
       "<text text-anchor=\"middle\" x=\"116.5\" y=\"-402.3\" font-family=\"Helvetica,sans-Serif\" font-size=\"14.00\">entropy = 0.28</text>\r\n",
       "<text text-anchor=\"middle\" x=\"116.5\" y=\"-387.3\" font-family=\"Helvetica,sans-Serif\" font-size=\"14.00\">samples = 21</text>\r\n",
       "<text text-anchor=\"middle\" x=\"116.5\" y=\"-372.3\" font-family=\"Helvetica,sans-Serif\" font-size=\"14.00\">value = [20, 1]</text>\r\n",
       "<text text-anchor=\"middle\" x=\"116.5\" y=\"-357.3\" font-family=\"Helvetica,sans-Serif\" font-size=\"14.00\">class = 0</text>\r\n",
       "</g>\r\n",
       "<!-- 18&#45;&gt;27 -->\r\n",
       "<g id=\"edge5\" class=\"edge\">\r\n",
       "<title>18&#45;&gt;27</title>\r\n",
       "<path fill=\"none\" stroke=\"black\" d=\"M198.78,-460.91C186.19,-449.21 172.45,-436.46 159.88,-424.78\"/>\r\n",
       "<polygon fill=\"black\" stroke=\"black\" points=\"161.93,-421.91 152.22,-417.67 157.16,-427.04 161.93,-421.91\"/>\r\n",
       "</g>\r\n",
       "<!-- 28 -->\r\n",
       "<g id=\"node7\" class=\"node\">\r\n",
       "<title>28</title>\r\n",
       "<path fill=\"#eca06a\" stroke=\"black\" d=\"M284.5,-417.5C284.5,-417.5 200.5,-417.5 200.5,-417.5 194.5,-417.5 188.5,-411.5 188.5,-405.5 188.5,-405.5 188.5,-361.5 188.5,-361.5 188.5,-355.5 194.5,-349.5 200.5,-349.5 200.5,-349.5 284.5,-349.5 284.5,-349.5 290.5,-349.5 296.5,-355.5 296.5,-361.5 296.5,-361.5 296.5,-405.5 296.5,-405.5 296.5,-411.5 290.5,-417.5 284.5,-417.5\"/>\r\n",
       "<text text-anchor=\"middle\" x=\"242.5\" y=\"-402.3\" font-family=\"Helvetica,sans-Serif\" font-size=\"14.00\">entropy = 0.72</text>\r\n",
       "<text text-anchor=\"middle\" x=\"242.5\" y=\"-387.3\" font-family=\"Helvetica,sans-Serif\" font-size=\"14.00\">samples = 20</text>\r\n",
       "<text text-anchor=\"middle\" x=\"242.5\" y=\"-372.3\" font-family=\"Helvetica,sans-Serif\" font-size=\"14.00\">value = [16, 4]</text>\r\n",
       "<text text-anchor=\"middle\" x=\"242.5\" y=\"-357.3\" font-family=\"Helvetica,sans-Serif\" font-size=\"14.00\">class = 0</text>\r\n",
       "</g>\r\n",
       "<!-- 18&#45;&gt;28 -->\r\n",
       "<g id=\"edge6\" class=\"edge\">\r\n",
       "<title>18&#45;&gt;28</title>\r\n",
       "<path fill=\"none\" stroke=\"black\" d=\"M242.5,-460.91C242.5,-450.2 242.5,-438.62 242.5,-427.78\"/>\r\n",
       "<polygon fill=\"black\" stroke=\"black\" points=\"246,-427.67 242.5,-417.67 239,-427.67 246,-427.67\"/>\r\n",
       "</g>\r\n",
       "<!-- 5 -->\r\n",
       "<g id=\"node9\" class=\"node\">\r\n",
       "<title>5</title>\r\n",
       "<path fill=\"#e99457\" stroke=\"black\" d=\"M516.5,-544C516.5,-544 432.5,-544 432.5,-544 426.5,-544 420.5,-538 420.5,-532 420.5,-532 420.5,-473 420.5,-473 420.5,-467 426.5,-461 432.5,-461 432.5,-461 516.5,-461 516.5,-461 522.5,-461 528.5,-467 528.5,-473 528.5,-473 528.5,-532 528.5,-532 528.5,-538 522.5,-544 516.5,-544\"/>\r\n",
       "<text text-anchor=\"middle\" x=\"474.5\" y=\"-528.8\" font-family=\"Helvetica,sans-Serif\" font-size=\"14.00\">Age &lt;= 23.5</text>\r\n",
       "<text text-anchor=\"middle\" x=\"474.5\" y=\"-513.8\" font-family=\"Helvetica,sans-Serif\" font-size=\"14.00\">entropy = 0.56</text>\r\n",
       "<text text-anchor=\"middle\" x=\"474.5\" y=\"-498.8\" font-family=\"Helvetica,sans-Serif\" font-size=\"14.00\">samples = 61</text>\r\n",
       "<text text-anchor=\"middle\" x=\"474.5\" y=\"-483.8\" font-family=\"Helvetica,sans-Serif\" font-size=\"14.00\">value = [53, 8]</text>\r\n",
       "<text text-anchor=\"middle\" x=\"474.5\" y=\"-468.8\" font-family=\"Helvetica,sans-Serif\" font-size=\"14.00\">class = 0</text>\r\n",
       "</g>\r\n",
       "<!-- 4&#45;&gt;5 -->\r\n",
       "<g id=\"edge8\" class=\"edge\">\r\n",
       "<title>4&#45;&gt;5</title>\r\n",
       "<path fill=\"none\" stroke=\"black\" d=\"M474.5,-579.91C474.5,-571.65 474.5,-562.86 474.5,-554.3\"/>\r\n",
       "<polygon fill=\"black\" stroke=\"black\" points=\"478,-554.02 474.5,-544.02 471,-554.02 478,-554.02\"/>\r\n",
       "</g>\r\n",
       "<!-- 6 -->\r\n",
       "<g id=\"node12\" class=\"node\">\r\n",
       "<title>6</title>\r\n",
       "<path fill=\"#fae8db\" stroke=\"black\" d=\"M670.5,-544C670.5,-544 572.5,-544 572.5,-544 566.5,-544 560.5,-538 560.5,-532 560.5,-532 560.5,-473 560.5,-473 560.5,-467 566.5,-461 572.5,-461 572.5,-461 670.5,-461 670.5,-461 676.5,-461 682.5,-467 682.5,-473 682.5,-473 682.5,-532 682.5,-532 682.5,-538 676.5,-544 670.5,-544\"/>\r\n",
       "<text text-anchor=\"middle\" x=\"621.5\" y=\"-528.8\" font-family=\"Helvetica,sans-Serif\" font-size=\"14.00\">BMI &lt;= 43.0</text>\r\n",
       "<text text-anchor=\"middle\" x=\"621.5\" y=\"-513.8\" font-family=\"Helvetica,sans-Serif\" font-size=\"14.00\">entropy = 0.99</text>\r\n",
       "<text text-anchor=\"middle\" x=\"621.5\" y=\"-498.8\" font-family=\"Helvetica,sans-Serif\" font-size=\"14.00\">samples = 189</text>\r\n",
       "<text text-anchor=\"middle\" x=\"621.5\" y=\"-483.8\" font-family=\"Helvetica,sans-Serif\" font-size=\"14.00\">value = [104, 85]</text>\r\n",
       "<text text-anchor=\"middle\" x=\"621.5\" y=\"-468.8\" font-family=\"Helvetica,sans-Serif\" font-size=\"14.00\">class = 0</text>\r\n",
       "</g>\r\n",
       "<!-- 4&#45;&gt;6 -->\r\n",
       "<g id=\"edge11\" class=\"edge\">\r\n",
       "<title>4&#45;&gt;6</title>\r\n",
       "<path fill=\"none\" stroke=\"black\" d=\"M525.5,-579.91C537.47,-570.38 550.33,-560.15 562.61,-550.37\"/>\r\n",
       "<polygon fill=\"black\" stroke=\"black\" points=\"564.94,-552.99 570.59,-544.02 560.59,-547.51 564.94,-552.99\"/>\r\n",
       "</g>\r\n",
       "<!-- 13 -->\r\n",
       "<g id=\"node10\" class=\"node\">\r\n",
       "<title>13</title>\r\n",
       "<path fill=\"#e58139\" stroke=\"black\" d=\"M408,-417.5C408,-417.5 327,-417.5 327,-417.5 321,-417.5 315,-411.5 315,-405.5 315,-405.5 315,-361.5 315,-361.5 315,-355.5 321,-349.5 327,-349.5 327,-349.5 408,-349.5 408,-349.5 414,-349.5 420,-355.5 420,-361.5 420,-361.5 420,-405.5 420,-405.5 420,-411.5 414,-417.5 408,-417.5\"/>\r\n",
       "<text text-anchor=\"middle\" x=\"367.5\" y=\"-402.3\" font-family=\"Helvetica,sans-Serif\" font-size=\"14.00\">entropy = 0.0</text>\r\n",
       "<text text-anchor=\"middle\" x=\"367.5\" y=\"-387.3\" font-family=\"Helvetica,sans-Serif\" font-size=\"14.00\">samples = 23</text>\r\n",
       "<text text-anchor=\"middle\" x=\"367.5\" y=\"-372.3\" font-family=\"Helvetica,sans-Serif\" font-size=\"14.00\">value = [23, 0]</text>\r\n",
       "<text text-anchor=\"middle\" x=\"367.5\" y=\"-357.3\" font-family=\"Helvetica,sans-Serif\" font-size=\"14.00\">class = 0</text>\r\n",
       "</g>\r\n",
       "<!-- 5&#45;&gt;13 -->\r\n",
       "<g id=\"edge9\" class=\"edge\">\r\n",
       "<title>5&#45;&gt;13</title>\r\n",
       "<path fill=\"none\" stroke=\"black\" d=\"M437.38,-460.91C426.78,-449.32 415.24,-436.7 404.64,-425.11\"/>\r\n",
       "<polygon fill=\"black\" stroke=\"black\" points=\"407.16,-422.68 397.83,-417.67 402,-427.41 407.16,-422.68\"/>\r\n",
       "</g>\r\n",
       "<!-- 14 -->\r\n",
       "<g id=\"node11\" class=\"node\">\r\n",
       "<title>14</title>\r\n",
       "<path fill=\"#eca36e\" stroke=\"black\" d=\"M534.5,-417.5C534.5,-417.5 450.5,-417.5 450.5,-417.5 444.5,-417.5 438.5,-411.5 438.5,-405.5 438.5,-405.5 438.5,-361.5 438.5,-361.5 438.5,-355.5 444.5,-349.5 450.5,-349.5 450.5,-349.5 534.5,-349.5 534.5,-349.5 540.5,-349.5 546.5,-355.5 546.5,-361.5 546.5,-361.5 546.5,-405.5 546.5,-405.5 546.5,-411.5 540.5,-417.5 534.5,-417.5\"/>\r\n",
       "<text text-anchor=\"middle\" x=\"492.5\" y=\"-402.3\" font-family=\"Helvetica,sans-Serif\" font-size=\"14.00\">entropy = 0.74</text>\r\n",
       "<text text-anchor=\"middle\" x=\"492.5\" y=\"-387.3\" font-family=\"Helvetica,sans-Serif\" font-size=\"14.00\">samples = 38</text>\r\n",
       "<text text-anchor=\"middle\" x=\"492.5\" y=\"-372.3\" font-family=\"Helvetica,sans-Serif\" font-size=\"14.00\">value = [30, 8]</text>\r\n",
       "<text text-anchor=\"middle\" x=\"492.5\" y=\"-357.3\" font-family=\"Helvetica,sans-Serif\" font-size=\"14.00\">class = 0</text>\r\n",
       "</g>\r\n",
       "<!-- 5&#45;&gt;14 -->\r\n",
       "<g id=\"edge10\" class=\"edge\">\r\n",
       "<title>5&#45;&gt;14</title>\r\n",
       "<path fill=\"none\" stroke=\"black\" d=\"M480.75,-460.91C482.39,-450.2 484.17,-438.62 485.84,-427.78\"/>\r\n",
       "<polygon fill=\"black\" stroke=\"black\" points=\"489.34,-428.08 487.4,-417.67 482.42,-427.02 489.34,-428.08\"/>\r\n",
       "</g>\r\n",
       "<!-- 11 -->\r\n",
       "<g id=\"node13\" class=\"node\">\r\n",
       "<title>11</title>\r\n",
       "<path fill=\"#f7d9c3\" stroke=\"black\" d=\"M666,-425C666,-425 577,-425 577,-425 571,-425 565,-419 565,-413 565,-413 565,-354 565,-354 565,-348 571,-342 577,-342 577,-342 666,-342 666,-342 672,-342 678,-348 678,-354 678,-354 678,-413 678,-413 678,-419 672,-425 666,-425\"/>\r\n",
       "<text text-anchor=\"middle\" x=\"621.5\" y=\"-409.8\" font-family=\"Helvetica,sans-Serif\" font-size=\"14.00\">Age &lt;= 30.5</text>\r\n",
       "<text text-anchor=\"middle\" x=\"621.5\" y=\"-394.8\" font-family=\"Helvetica,sans-Serif\" font-size=\"14.00\">entropy = 0.98</text>\r\n",
       "<text text-anchor=\"middle\" x=\"621.5\" y=\"-379.8\" font-family=\"Helvetica,sans-Serif\" font-size=\"14.00\">samples = 168</text>\r\n",
       "<text text-anchor=\"middle\" x=\"621.5\" y=\"-364.8\" font-family=\"Helvetica,sans-Serif\" font-size=\"14.00\">value = [99, 69]</text>\r\n",
       "<text text-anchor=\"middle\" x=\"621.5\" y=\"-349.8\" font-family=\"Helvetica,sans-Serif\" font-size=\"14.00\">class = 0</text>\r\n",
       "</g>\r\n",
       "<!-- 6&#45;&gt;11 -->\r\n",
       "<g id=\"edge12\" class=\"edge\">\r\n",
       "<title>6&#45;&gt;11</title>\r\n",
       "<path fill=\"none\" stroke=\"black\" d=\"M621.5,-460.91C621.5,-452.65 621.5,-443.86 621.5,-435.3\"/>\r\n",
       "<polygon fill=\"black\" stroke=\"black\" points=\"625,-435.02 621.5,-425.02 618,-435.02 625,-435.02\"/>\r\n",
       "</g>\r\n",
       "<!-- 12 -->\r\n",
       "<g id=\"node24\" class=\"node\">\r\n",
       "<title>12</title>\r\n",
       "<path fill=\"#77bced\" stroke=\"black\" d=\"M792.5,-417.5C792.5,-417.5 708.5,-417.5 708.5,-417.5 702.5,-417.5 696.5,-411.5 696.5,-405.5 696.5,-405.5 696.5,-361.5 696.5,-361.5 696.5,-355.5 702.5,-349.5 708.5,-349.5 708.5,-349.5 792.5,-349.5 792.5,-349.5 798.5,-349.5 804.5,-355.5 804.5,-361.5 804.5,-361.5 804.5,-405.5 804.5,-405.5 804.5,-411.5 798.5,-417.5 792.5,-417.5\"/>\r\n",
       "<text text-anchor=\"middle\" x=\"750.5\" y=\"-402.3\" font-family=\"Helvetica,sans-Serif\" font-size=\"14.00\">entropy = 0.79</text>\r\n",
       "<text text-anchor=\"middle\" x=\"750.5\" y=\"-387.3\" font-family=\"Helvetica,sans-Serif\" font-size=\"14.00\">samples = 21</text>\r\n",
       "<text text-anchor=\"middle\" x=\"750.5\" y=\"-372.3\" font-family=\"Helvetica,sans-Serif\" font-size=\"14.00\">value = [5, 16]</text>\r\n",
       "<text text-anchor=\"middle\" x=\"750.5\" y=\"-357.3\" font-family=\"Helvetica,sans-Serif\" font-size=\"14.00\">class = 1</text>\r\n",
       "</g>\r\n",
       "<!-- 6&#45;&gt;12 -->\r\n",
       "<g id=\"edge23\" class=\"edge\">\r\n",
       "<title>6&#45;&gt;12</title>\r\n",
       "<path fill=\"none\" stroke=\"black\" d=\"M666.26,-460.91C679.27,-449.1 693.48,-436.22 706.45,-424.45\"/>\r\n",
       "<polygon fill=\"black\" stroke=\"black\" points=\"708.88,-426.98 713.93,-417.67 704.17,-421.79 708.88,-426.98\"/>\r\n",
       "</g>\r\n",
       "<!-- 15 -->\r\n",
       "<g id=\"node14\" class=\"node\">\r\n",
       "<title>15</title>\r\n",
       "<path fill=\"#f0b78e\" stroke=\"black\" d=\"M573,-306C573,-306 466,-306 466,-306 460,-306 454,-300 454,-294 454,-294 454,-235 454,-235 454,-229 460,-223 466,-223 466,-223 573,-223 573,-223 579,-223 585,-229 585,-235 585,-235 585,-294 585,-294 585,-300 579,-306 573,-306\"/>\r\n",
       "<text text-anchor=\"middle\" x=\"519.5\" y=\"-290.8\" font-family=\"Helvetica,sans-Serif\" font-size=\"14.00\">Glucose &lt;= 123.5</text>\r\n",
       "<text text-anchor=\"middle\" x=\"519.5\" y=\"-275.8\" font-family=\"Helvetica,sans-Serif\" font-size=\"14.00\">entropy = 0.88</text>\r\n",
       "<text text-anchor=\"middle\" x=\"519.5\" y=\"-260.8\" font-family=\"Helvetica,sans-Serif\" font-size=\"14.00\">samples = 83</text>\r\n",
       "<text text-anchor=\"middle\" x=\"519.5\" y=\"-245.8\" font-family=\"Helvetica,sans-Serif\" font-size=\"14.00\">value = [58, 25]</text>\r\n",
       "<text text-anchor=\"middle\" x=\"519.5\" y=\"-230.8\" font-family=\"Helvetica,sans-Serif\" font-size=\"14.00\">class = 0</text>\r\n",
       "</g>\r\n",
       "<!-- 11&#45;&gt;15 -->\r\n",
       "<g id=\"edge13\" class=\"edge\">\r\n",
       "<title>11&#45;&gt;15</title>\r\n",
       "<path fill=\"none\" stroke=\"black\" d=\"M586.11,-341.91C578.2,-332.83 569.73,-323.12 561.58,-313.77\"/>\r\n",
       "<polygon fill=\"black\" stroke=\"black\" points=\"564.04,-311.26 554.83,-306.02 558.76,-315.86 564.04,-311.26\"/>\r\n",
       "</g>\r\n",
       "<!-- 16 -->\r\n",
       "<g id=\"node19\" class=\"node\">\r\n",
       "<title>16</title>\r\n",
       "<path fill=\"#f2f8fd\" stroke=\"black\" d=\"M830,-306C830,-306 615,-306 615,-306 609,-306 603,-300 603,-294 603,-294 603,-235 603,-235 603,-229 609,-223 615,-223 615,-223 830,-223 830,-223 836,-223 842,-229 842,-235 842,-235 842,-294 842,-294 842,-300 836,-306 830,-306\"/>\r\n",
       "<text text-anchor=\"middle\" x=\"722.5\" y=\"-290.8\" font-family=\"Helvetica,sans-Serif\" font-size=\"14.00\">DiabetesPedigreeFunction &lt;= 0.53</text>\r\n",
       "<text text-anchor=\"middle\" x=\"722.5\" y=\"-275.8\" font-family=\"Helvetica,sans-Serif\" font-size=\"14.00\">entropy = 1.0</text>\r\n",
       "<text text-anchor=\"middle\" x=\"722.5\" y=\"-260.8\" font-family=\"Helvetica,sans-Serif\" font-size=\"14.00\">samples = 85</text>\r\n",
       "<text text-anchor=\"middle\" x=\"722.5\" y=\"-245.8\" font-family=\"Helvetica,sans-Serif\" font-size=\"14.00\">value = [41, 44]</text>\r\n",
       "<text text-anchor=\"middle\" x=\"722.5\" y=\"-230.8\" font-family=\"Helvetica,sans-Serif\" font-size=\"14.00\">class = 1</text>\r\n",
       "</g>\r\n",
       "<!-- 11&#45;&gt;16 -->\r\n",
       "<g id=\"edge18\" class=\"edge\">\r\n",
       "<title>11&#45;&gt;16</title>\r\n",
       "<path fill=\"none\" stroke=\"black\" d=\"M656.54,-341.91C664.38,-332.83 672.76,-323.12 680.83,-313.77\"/>\r\n",
       "<polygon fill=\"black\" stroke=\"black\" points=\"683.64,-315.88 687.52,-306.02 678.34,-311.3 683.64,-315.88\"/>\r\n",
       "</g>\r\n",
       "<!-- 19 -->\r\n",
       "<g id=\"node15\" class=\"node\">\r\n",
       "<title>19</title>\r\n",
       "<path fill=\"#eba069\" stroke=\"black\" d=\"M445,-187C445,-187 308,-187 308,-187 302,-187 296,-181 296,-175 296,-175 296,-116 296,-116 296,-110 302,-104 308,-104 308,-104 445,-104 445,-104 451,-104 457,-110 457,-116 457,-116 457,-175 457,-175 457,-181 451,-187 445,-187\"/>\r\n",
       "<text text-anchor=\"middle\" x=\"376.5\" y=\"-171.8\" font-family=\"Helvetica,sans-Serif\" font-size=\"14.00\">SkinThickness &lt;= 29.5</text>\r\n",
       "<text text-anchor=\"middle\" x=\"376.5\" y=\"-156.8\" font-family=\"Helvetica,sans-Serif\" font-size=\"14.00\">entropy = 0.71</text>\r\n",
       "<text text-anchor=\"middle\" x=\"376.5\" y=\"-141.8\" font-family=\"Helvetica,sans-Serif\" font-size=\"14.00\">samples = 46</text>\r\n",
       "<text text-anchor=\"middle\" x=\"376.5\" y=\"-126.8\" font-family=\"Helvetica,sans-Serif\" font-size=\"14.00\">value = [37, 9]</text>\r\n",
       "<text text-anchor=\"middle\" x=\"376.5\" y=\"-111.8\" font-family=\"Helvetica,sans-Serif\" font-size=\"14.00\">class = 0</text>\r\n",
       "</g>\r\n",
       "<!-- 15&#45;&gt;19 -->\r\n",
       "<g id=\"edge14\" class=\"edge\">\r\n",
       "<title>15&#45;&gt;19</title>\r\n",
       "<path fill=\"none\" stroke=\"black\" d=\"M469.89,-222.91C458.24,-213.38 445.74,-203.15 433.79,-193.37\"/>\r\n",
       "<polygon fill=\"black\" stroke=\"black\" points=\"435.98,-190.64 426.03,-187.02 431.55,-196.06 435.98,-190.64\"/>\r\n",
       "</g>\r\n",
       "<!-- 20 -->\r\n",
       "<g id=\"node18\" class=\"node\">\r\n",
       "<title>20</title>\r\n",
       "<path fill=\"#f9e1d0\" stroke=\"black\" d=\"M576,-179.5C576,-179.5 487,-179.5 487,-179.5 481,-179.5 475,-173.5 475,-167.5 475,-167.5 475,-123.5 475,-123.5 475,-117.5 481,-111.5 487,-111.5 487,-111.5 576,-111.5 576,-111.5 582,-111.5 588,-117.5 588,-123.5 588,-123.5 588,-167.5 588,-167.5 588,-173.5 582,-179.5 576,-179.5\"/>\r\n",
       "<text text-anchor=\"middle\" x=\"531.5\" y=\"-164.3\" font-family=\"Helvetica,sans-Serif\" font-size=\"14.00\">entropy = 0.99</text>\r\n",
       "<text text-anchor=\"middle\" x=\"531.5\" y=\"-149.3\" font-family=\"Helvetica,sans-Serif\" font-size=\"14.00\">samples = 37</text>\r\n",
       "<text text-anchor=\"middle\" x=\"531.5\" y=\"-134.3\" font-family=\"Helvetica,sans-Serif\" font-size=\"14.00\">value = [21, 16]</text>\r\n",
       "<text text-anchor=\"middle\" x=\"531.5\" y=\"-119.3\" font-family=\"Helvetica,sans-Serif\" font-size=\"14.00\">class = 0</text>\r\n",
       "</g>\r\n",
       "<!-- 15&#45;&gt;20 -->\r\n",
       "<g id=\"edge17\" class=\"edge\">\r\n",
       "<title>15&#45;&gt;20</title>\r\n",
       "<path fill=\"none\" stroke=\"black\" d=\"M523.66,-222.91C524.76,-212.2 525.95,-200.62 527.06,-189.78\"/>\r\n",
       "<polygon fill=\"black\" stroke=\"black\" points=\"530.56,-189.97 528.1,-179.67 523.6,-189.26 530.56,-189.97\"/>\r\n",
       "</g>\r\n",
       "<!-- 21 -->\r\n",
       "<g id=\"node16\" class=\"node\">\r\n",
       "<title>21</title>\r\n",
       "<path fill=\"#e88e4d\" stroke=\"black\" d=\"M381.5,-68C381.5,-68 297.5,-68 297.5,-68 291.5,-68 285.5,-62 285.5,-56 285.5,-56 285.5,-12 285.5,-12 285.5,-6 291.5,0 297.5,0 297.5,0 381.5,0 381.5,0 387.5,0 393.5,-6 393.5,-12 393.5,-12 393.5,-56 393.5,-56 393.5,-62 387.5,-68 381.5,-68\"/>\r\n",
       "<text text-anchor=\"middle\" x=\"339.5\" y=\"-52.8\" font-family=\"Helvetica,sans-Serif\" font-size=\"14.00\">entropy = 0.44</text>\r\n",
       "<text text-anchor=\"middle\" x=\"339.5\" y=\"-37.8\" font-family=\"Helvetica,sans-Serif\" font-size=\"14.00\">samples = 22</text>\r\n",
       "<text text-anchor=\"middle\" x=\"339.5\" y=\"-22.8\" font-family=\"Helvetica,sans-Serif\" font-size=\"14.00\">value = [20, 2]</text>\r\n",
       "<text text-anchor=\"middle\" x=\"339.5\" y=\"-7.8\" font-family=\"Helvetica,sans-Serif\" font-size=\"14.00\">class = 0</text>\r\n",
       "</g>\r\n",
       "<!-- 19&#45;&gt;21 -->\r\n",
       "<g id=\"edge15\" class=\"edge\">\r\n",
       "<title>19&#45;&gt;21</title>\r\n",
       "<path fill=\"none\" stroke=\"black\" d=\"M362.72,-103.73C359.89,-95.34 356.89,-86.47 354.03,-78.01\"/>\r\n",
       "<polygon fill=\"black\" stroke=\"black\" points=\"357.27,-76.65 350.75,-68.3 350.64,-78.89 357.27,-76.65\"/>\r\n",
       "</g>\r\n",
       "<!-- 22 -->\r\n",
       "<g id=\"node17\" class=\"node\">\r\n",
       "<title>22</title>\r\n",
       "<path fill=\"#f0b58b\" stroke=\"black\" d=\"M507.5,-68C507.5,-68 423.5,-68 423.5,-68 417.5,-68 411.5,-62 411.5,-56 411.5,-56 411.5,-12 411.5,-12 411.5,-6 417.5,0 423.5,0 423.5,0 507.5,0 507.5,0 513.5,0 519.5,-6 519.5,-12 519.5,-12 519.5,-56 519.5,-56 519.5,-62 513.5,-68 507.5,-68\"/>\r\n",
       "<text text-anchor=\"middle\" x=\"465.5\" y=\"-52.8\" font-family=\"Helvetica,sans-Serif\" font-size=\"14.00\">entropy = 0.87</text>\r\n",
       "<text text-anchor=\"middle\" x=\"465.5\" y=\"-37.8\" font-family=\"Helvetica,sans-Serif\" font-size=\"14.00\">samples = 24</text>\r\n",
       "<text text-anchor=\"middle\" x=\"465.5\" y=\"-22.8\" font-family=\"Helvetica,sans-Serif\" font-size=\"14.00\">value = [17, 7]</text>\r\n",
       "<text text-anchor=\"middle\" x=\"465.5\" y=\"-7.8\" font-family=\"Helvetica,sans-Serif\" font-size=\"14.00\">class = 0</text>\r\n",
       "</g>\r\n",
       "<!-- 19&#45;&gt;22 -->\r\n",
       "<g id=\"edge16\" class=\"edge\">\r\n",
       "<title>19&#45;&gt;22</title>\r\n",
       "<path fill=\"none\" stroke=\"black\" d=\"M409.64,-103.73C416.98,-94.7 424.76,-85.12 432.11,-76.08\"/>\r\n",
       "<polygon fill=\"black\" stroke=\"black\" points=\"434.84,-78.27 438.43,-68.3 429.41,-73.85 434.84,-78.27\"/>\r\n",
       "</g>\r\n",
       "<!-- 23 -->\r\n",
       "<g id=\"node20\" class=\"node\">\r\n",
       "<title>23</title>\r\n",
       "<path fill=\"#fbeade\" stroke=\"black\" d=\"M779,-187C779,-187 642,-187 642,-187 636,-187 630,-181 630,-175 630,-175 630,-116 630,-116 630,-110 636,-104 642,-104 642,-104 779,-104 779,-104 785,-104 791,-110 791,-116 791,-116 791,-175 791,-175 791,-181 785,-187 779,-187\"/>\r\n",
       "<text text-anchor=\"middle\" x=\"710.5\" y=\"-171.8\" font-family=\"Helvetica,sans-Serif\" font-size=\"14.00\">SkinThickness &lt;= 26.5</text>\r\n",
       "<text text-anchor=\"middle\" x=\"710.5\" y=\"-156.8\" font-family=\"Helvetica,sans-Serif\" font-size=\"14.00\">entropy = 0.99</text>\r\n",
       "<text text-anchor=\"middle\" x=\"710.5\" y=\"-141.8\" font-family=\"Helvetica,sans-Serif\" font-size=\"14.00\">samples = 55</text>\r\n",
       "<text text-anchor=\"middle\" x=\"710.5\" y=\"-126.8\" font-family=\"Helvetica,sans-Serif\" font-size=\"14.00\">value = [30, 25]</text>\r\n",
       "<text text-anchor=\"middle\" x=\"710.5\" y=\"-111.8\" font-family=\"Helvetica,sans-Serif\" font-size=\"14.00\">class = 0</text>\r\n",
       "</g>\r\n",
       "<!-- 16&#45;&gt;23 -->\r\n",
       "<g id=\"edge19\" class=\"edge\">\r\n",
       "<title>16&#45;&gt;23</title>\r\n",
       "<path fill=\"none\" stroke=\"black\" d=\"M718.34,-222.91C717.48,-214.56 716.57,-205.67 715.68,-197.02\"/>\r\n",
       "<polygon fill=\"black\" stroke=\"black\" points=\"719.16,-196.61 714.66,-187.02 712.19,-197.33 719.16,-196.61\"/>\r\n",
       "</g>\r\n",
       "<!-- 24 -->\r\n",
       "<g id=\"node23\" class=\"node\">\r\n",
       "<title>24</title>\r\n",
       "<path fill=\"#acd6f4\" stroke=\"black\" d=\"M910,-179.5C910,-179.5 821,-179.5 821,-179.5 815,-179.5 809,-173.5 809,-167.5 809,-167.5 809,-123.5 809,-123.5 809,-117.5 815,-111.5 821,-111.5 821,-111.5 910,-111.5 910,-111.5 916,-111.5 922,-117.5 922,-123.5 922,-123.5 922,-167.5 922,-167.5 922,-173.5 916,-179.5 910,-179.5\"/>\r\n",
       "<text text-anchor=\"middle\" x=\"865.5\" y=\"-164.3\" font-family=\"Helvetica,sans-Serif\" font-size=\"14.00\">entropy = 0.95</text>\r\n",
       "<text text-anchor=\"middle\" x=\"865.5\" y=\"-149.3\" font-family=\"Helvetica,sans-Serif\" font-size=\"14.00\">samples = 30</text>\r\n",
       "<text text-anchor=\"middle\" x=\"865.5\" y=\"-134.3\" font-family=\"Helvetica,sans-Serif\" font-size=\"14.00\">value = [11, 19]</text>\r\n",
       "<text text-anchor=\"middle\" x=\"865.5\" y=\"-119.3\" font-family=\"Helvetica,sans-Serif\" font-size=\"14.00\">class = 1</text>\r\n",
       "</g>\r\n",
       "<!-- 16&#45;&gt;24 -->\r\n",
       "<g id=\"edge22\" class=\"edge\">\r\n",
       "<title>16&#45;&gt;24</title>\r\n",
       "<path fill=\"none\" stroke=\"black\" d=\"M772.11,-222.91C786.68,-210.99 802.59,-197.98 817.08,-186.12\"/>\r\n",
       "<polygon fill=\"black\" stroke=\"black\" points=\"819.44,-188.71 824.96,-179.67 815.01,-183.29 819.44,-188.71\"/>\r\n",
       "</g>\r\n",
       "<!-- 25 -->\r\n",
       "<g id=\"node21\" class=\"node\">\r\n",
       "<title>25</title>\r\n",
       "<path fill=\"#c0e0f7\" stroke=\"black\" d=\"M685,-68C685,-68 596,-68 596,-68 590,-68 584,-62 584,-56 584,-56 584,-12 584,-12 584,-6 590,0 596,0 596,0 685,0 685,0 691,0 697,-6 697,-12 697,-12 697,-56 697,-56 697,-62 691,-68 685,-68\"/>\r\n",
       "<text text-anchor=\"middle\" x=\"640.5\" y=\"-52.8\" font-family=\"Helvetica,sans-Serif\" font-size=\"14.00\">entropy = 0.97</text>\r\n",
       "<text text-anchor=\"middle\" x=\"640.5\" y=\"-37.8\" font-family=\"Helvetica,sans-Serif\" font-size=\"14.00\">samples = 32</text>\r\n",
       "<text text-anchor=\"middle\" x=\"640.5\" y=\"-22.8\" font-family=\"Helvetica,sans-Serif\" font-size=\"14.00\">value = [13, 19]</text>\r\n",
       "<text text-anchor=\"middle\" x=\"640.5\" y=\"-7.8\" font-family=\"Helvetica,sans-Serif\" font-size=\"14.00\">class = 1</text>\r\n",
       "</g>\r\n",
       "<!-- 23&#45;&gt;25 -->\r\n",
       "<g id=\"edge20\" class=\"edge\">\r\n",
       "<title>23&#45;&gt;25</title>\r\n",
       "<path fill=\"none\" stroke=\"black\" d=\"M684.43,-103.73C678.84,-94.97 672.91,-85.7 667.29,-76.91\"/>\r\n",
       "<polygon fill=\"black\" stroke=\"black\" points=\"670.12,-74.84 661.79,-68.3 664.22,-78.61 670.12,-74.84\"/>\r\n",
       "</g>\r\n",
       "<!-- 26 -->\r\n",
       "<g id=\"node22\" class=\"node\">\r\n",
       "<title>26</title>\r\n",
       "<path fill=\"#eead7f\" stroke=\"black\" d=\"M811.5,-68C811.5,-68 727.5,-68 727.5,-68 721.5,-68 715.5,-62 715.5,-56 715.5,-56 715.5,-12 715.5,-12 715.5,-6 721.5,0 727.5,0 727.5,0 811.5,0 811.5,0 817.5,0 823.5,-6 823.5,-12 823.5,-12 823.5,-56 823.5,-56 823.5,-62 817.5,-68 811.5,-68\"/>\r\n",
       "<text text-anchor=\"middle\" x=\"769.5\" y=\"-52.8\" font-family=\"Helvetica,sans-Serif\" font-size=\"14.00\">entropy = 0.83</text>\r\n",
       "<text text-anchor=\"middle\" x=\"769.5\" y=\"-37.8\" font-family=\"Helvetica,sans-Serif\" font-size=\"14.00\">samples = 23</text>\r\n",
       "<text text-anchor=\"middle\" x=\"769.5\" y=\"-22.8\" font-family=\"Helvetica,sans-Serif\" font-size=\"14.00\">value = [17, 6]</text>\r\n",
       "<text text-anchor=\"middle\" x=\"769.5\" y=\"-7.8\" font-family=\"Helvetica,sans-Serif\" font-size=\"14.00\">class = 0</text>\r\n",
       "</g>\r\n",
       "<!-- 23&#45;&gt;26 -->\r\n",
       "<g id=\"edge21\" class=\"edge\">\r\n",
       "<title>23&#45;&gt;26</title>\r\n",
       "<path fill=\"none\" stroke=\"black\" d=\"M732.47,-103.73C737.14,-95.06 742.08,-85.9 746.77,-77.18\"/>\r\n",
       "<polygon fill=\"black\" stroke=\"black\" points=\"749.9,-78.76 751.56,-68.3 743.73,-75.44 749.9,-78.76\"/>\r\n",
       "</g>\r\n",
       "<!-- 7 -->\r\n",
       "<g id=\"node26\" class=\"node\">\r\n",
       "<title>7</title>\r\n",
       "<path fill=\"#edf6fd\" stroke=\"black\" d=\"M680,-655.5C680,-655.5 591,-655.5 591,-655.5 585,-655.5 579,-649.5 579,-643.5 579,-643.5 579,-599.5 579,-599.5 579,-593.5 585,-587.5 591,-587.5 591,-587.5 680,-587.5 680,-587.5 686,-587.5 692,-593.5 692,-599.5 692,-599.5 692,-643.5 692,-643.5 692,-649.5 686,-655.5 680,-655.5\"/>\r\n",
       "<text text-anchor=\"middle\" x=\"635.5\" y=\"-640.3\" font-family=\"Helvetica,sans-Serif\" font-size=\"14.00\">entropy = 1.0</text>\r\n",
       "<text text-anchor=\"middle\" x=\"635.5\" y=\"-625.3\" font-family=\"Helvetica,sans-Serif\" font-size=\"14.00\">samples = 21</text>\r\n",
       "<text text-anchor=\"middle\" x=\"635.5\" y=\"-610.3\" font-family=\"Helvetica,sans-Serif\" font-size=\"14.00\">value = [10, 11]</text>\r\n",
       "<text text-anchor=\"middle\" x=\"635.5\" y=\"-595.3\" font-family=\"Helvetica,sans-Serif\" font-size=\"14.00\">class = 1</text>\r\n",
       "</g>\r\n",
       "<!-- 2&#45;&gt;7 -->\r\n",
       "<g id=\"edge25\" class=\"edge\">\r\n",
       "<title>2&#45;&gt;7</title>\r\n",
       "<path fill=\"none\" stroke=\"black\" d=\"M645.95,-698.91C644.49,-688.2 642.9,-676.62 641.42,-665.78\"/>\r\n",
       "<polygon fill=\"black\" stroke=\"black\" points=\"644.86,-665.1 640.04,-655.67 637.92,-666.05 644.86,-665.1\"/>\r\n",
       "</g>\r\n",
       "<!-- 8 -->\r\n",
       "<g id=\"node27\" class=\"node\">\r\n",
       "<title>8</title>\r\n",
       "<path fill=\"#4da7e8\" stroke=\"black\" d=\"M816.5,-663C816.5,-663 722.5,-663 722.5,-663 716.5,-663 710.5,-657 710.5,-651 710.5,-651 710.5,-592 710.5,-592 710.5,-586 716.5,-580 722.5,-580 722.5,-580 816.5,-580 816.5,-580 822.5,-580 828.5,-586 828.5,-592 828.5,-592 828.5,-651 828.5,-651 828.5,-657 822.5,-663 816.5,-663\"/>\r\n",
       "<text text-anchor=\"middle\" x=\"769.5\" y=\"-647.8\" font-family=\"Helvetica,sans-Serif\" font-size=\"14.00\">Insulin &lt;= 183.5</text>\r\n",
       "<text text-anchor=\"middle\" x=\"769.5\" y=\"-632.8\" font-family=\"Helvetica,sans-Serif\" font-size=\"14.00\">entropy = 0.45</text>\r\n",
       "<text text-anchor=\"middle\" x=\"769.5\" y=\"-617.8\" font-family=\"Helvetica,sans-Serif\" font-size=\"14.00\">samples = 54</text>\r\n",
       "<text text-anchor=\"middle\" x=\"769.5\" y=\"-602.8\" font-family=\"Helvetica,sans-Serif\" font-size=\"14.00\">value = [5, 49]</text>\r\n",
       "<text text-anchor=\"middle\" x=\"769.5\" y=\"-587.8\" font-family=\"Helvetica,sans-Serif\" font-size=\"14.00\">class = 1</text>\r\n",
       "</g>\r\n",
       "<!-- 2&#45;&gt;8 -->\r\n",
       "<g id=\"edge26\" class=\"edge\">\r\n",
       "<title>2&#45;&gt;8</title>\r\n",
       "<path fill=\"none\" stroke=\"black\" d=\"M692.44,-698.91C701.78,-689.65 711.78,-679.73 721.38,-670.21\"/>\r\n",
       "<polygon fill=\"black\" stroke=\"black\" points=\"724,-672.55 728.63,-663.02 719.07,-667.58 724,-672.55\"/>\r\n",
       "</g>\r\n",
       "<!-- 9 -->\r\n",
       "<g id=\"node28\" class=\"node\">\r\n",
       "<title>9</title>\r\n",
       "<path fill=\"#399de5\" stroke=\"black\" d=\"M796,-536.5C796,-536.5 715,-536.5 715,-536.5 709,-536.5 703,-530.5 703,-524.5 703,-524.5 703,-480.5 703,-480.5 703,-474.5 709,-468.5 715,-468.5 715,-468.5 796,-468.5 796,-468.5 802,-468.5 808,-474.5 808,-480.5 808,-480.5 808,-524.5 808,-524.5 808,-530.5 802,-536.5 796,-536.5\"/>\r\n",
       "<text text-anchor=\"middle\" x=\"755.5\" y=\"-521.3\" font-family=\"Helvetica,sans-Serif\" font-size=\"14.00\">entropy = 0.0</text>\r\n",
       "<text text-anchor=\"middle\" x=\"755.5\" y=\"-506.3\" font-family=\"Helvetica,sans-Serif\" font-size=\"14.00\">samples = 34</text>\r\n",
       "<text text-anchor=\"middle\" x=\"755.5\" y=\"-491.3\" font-family=\"Helvetica,sans-Serif\" font-size=\"14.00\">value = [0, 34]</text>\r\n",
       "<text text-anchor=\"middle\" x=\"755.5\" y=\"-476.3\" font-family=\"Helvetica,sans-Serif\" font-size=\"14.00\">class = 1</text>\r\n",
       "</g>\r\n",
       "<!-- 8&#45;&gt;9 -->\r\n",
       "<g id=\"edge27\" class=\"edge\">\r\n",
       "<title>8&#45;&gt;9</title>\r\n",
       "<path fill=\"none\" stroke=\"black\" d=\"M764.64,-579.91C763.36,-569.2 761.98,-557.62 760.68,-546.78\"/>\r\n",
       "<polygon fill=\"black\" stroke=\"black\" points=\"764.13,-546.18 759.47,-536.67 757.18,-547.01 764.13,-546.18\"/>\r\n",
       "</g>\r\n",
       "<!-- 10 -->\r\n",
       "<g id=\"node29\" class=\"node\">\r\n",
       "<title>10</title>\r\n",
       "<path fill=\"#7bbeee\" stroke=\"black\" d=\"M922.5,-536.5C922.5,-536.5 838.5,-536.5 838.5,-536.5 832.5,-536.5 826.5,-530.5 826.5,-524.5 826.5,-524.5 826.5,-480.5 826.5,-480.5 826.5,-474.5 832.5,-468.5 838.5,-468.5 838.5,-468.5 922.5,-468.5 922.5,-468.5 928.5,-468.5 934.5,-474.5 934.5,-480.5 934.5,-480.5 934.5,-524.5 934.5,-524.5 934.5,-530.5 928.5,-536.5 922.5,-536.5\"/>\r\n",
       "<text text-anchor=\"middle\" x=\"880.5\" y=\"-521.3\" font-family=\"Helvetica,sans-Serif\" font-size=\"14.00\">entropy = 0.81</text>\r\n",
       "<text text-anchor=\"middle\" x=\"880.5\" y=\"-506.3\" font-family=\"Helvetica,sans-Serif\" font-size=\"14.00\">samples = 20</text>\r\n",
       "<text text-anchor=\"middle\" x=\"880.5\" y=\"-491.3\" font-family=\"Helvetica,sans-Serif\" font-size=\"14.00\">value = [5, 15]</text>\r\n",
       "<text text-anchor=\"middle\" x=\"880.5\" y=\"-476.3\" font-family=\"Helvetica,sans-Serif\" font-size=\"14.00\">class = 1</text>\r\n",
       "</g>\r\n",
       "<!-- 8&#45;&gt;10 -->\r\n",
       "<g id=\"edge28\" class=\"edge\">\r\n",
       "<title>8&#45;&gt;10</title>\r\n",
       "<path fill=\"none\" stroke=\"black\" d=\"M808.01,-579.91C819,-568.32 830.98,-555.7 841.97,-544.11\"/>\r\n",
       "<polygon fill=\"black\" stroke=\"black\" points=\"844.69,-546.33 849.03,-536.67 839.61,-541.51 844.69,-546.33\"/>\r\n",
       "</g>\r\n",
       "</g>\r\n",
       "</svg>\r\n"
      ],
      "text/plain": [
       "<graphviz.files.Source at 0x203204f7ac0>"
      ]
     },
     "execution_count": 11,
     "metadata": {},
     "output_type": "execute_result"
    }
   ],
   "source": [
    "from sklearn.tree import export_graphviz\n",
    "import graphviz\n",
    "columns = list(x.columns)\n",
    "export_graphviz(clf, out_file='tree.dot', \n",
    "                feature_names=columns,\n",
    "                class_names=['0', '1'],\n",
    "                rounded = True, proportion = False, \n",
    "                precision = 2, filled = True, label='all')\n",
    "\n",
    "with open('tree.dot') as f:\n",
    "    dot_graph = f.read()\n",
    "\n",
    "graphviz.Source(dot_graph)"
   ]
  },
  {
   "cell_type": "markdown",
   "metadata": {},
   "source": [
    "Выводим глубину дерева:"
   ]
  },
  {
   "cell_type": "code",
   "execution_count": 12,
   "metadata": {},
   "outputs": [
    {
     "data": {
      "text/plain": [
       "7"
      ]
     },
     "execution_count": 12,
     "metadata": {},
     "output_type": "execute_result"
    }
   ],
   "source": [
    "clf.tree_.max_depth"
   ]
  },
  {
   "cell_type": "markdown",
   "metadata": {},
   "source": [
    "Выполняем предсказание для объектов из тестовой выборки:"
   ]
  },
  {
   "cell_type": "code",
   "execution_count": 13,
   "metadata": {},
   "outputs": [],
   "source": [
    "features = list(test.columns[:8])\n",
    "x = test[features]\n",
    "y_true = test['Outcome']\n",
    "y_pred = clf.predict(x)"
   ]
  },
  {
   "cell_type": "markdown",
   "metadata": {},
   "source": [
    "Доля правильных ответов классификатора:"
   ]
  },
  {
   "cell_type": "code",
   "execution_count": 14,
   "metadata": {},
   "outputs": [
    {
     "data": {
      "text/plain": [
       "0.7909604519774012"
      ]
     },
     "execution_count": 14,
     "metadata": {},
     "output_type": "execute_result"
    }
   ],
   "source": [
    "from sklearn.metrics import accuracy_score\n",
    "accuracy_score(y_true, y_pred)"
   ]
  },
  {
   "cell_type": "markdown",
   "metadata": {},
   "source": [
    "Среднее значение метрик $F_1$ (Macro-F1):"
   ]
  },
  {
   "cell_type": "code",
   "execution_count": 15,
   "metadata": {},
   "outputs": [
    {
     "data": {
      "text/plain": [
       "0.7301940427635645"
      ]
     },
     "execution_count": 15,
     "metadata": {},
     "output_type": "execute_result"
    }
   ],
   "source": [
    "from sklearn.metrics import f1_score\n",
    "f1_score(y_true, y_pred, average='macro')"
   ]
  },
  {
   "cell_type": "markdown",
   "metadata": {},
   "source": [
    "Выполним предсказание для конкретного объекта (с индексом 708) исходных данных:"
   ]
  },
  {
   "cell_type": "code",
   "execution_count": 16,
   "metadata": {},
   "outputs": [
    {
     "data": {
      "text/plain": [
       "Pregnancies                   9.000\n",
       "Glucose                     164.000\n",
       "BloodPressure                78.000\n",
       "SkinThickness                 0.000\n",
       "Insulin                       0.000\n",
       "BMI                          32.800\n",
       "DiabetesPedigreeFunction      0.148\n",
       "Age                          45.000\n",
       "Name: 708, dtype: float64"
      ]
     },
     "execution_count": 16,
     "metadata": {},
     "output_type": "execute_result"
    }
   ],
   "source": [
    "df.loc[708, features]"
   ]
  },
  {
   "cell_type": "markdown",
   "metadata": {},
   "source": [
    "Назначенный класс:"
   ]
  },
  {
   "cell_type": "code",
   "execution_count": 17,
   "metadata": {},
   "outputs": [
    {
     "data": {
      "text/plain": [
       "1"
      ]
     },
     "execution_count": 17,
     "metadata": {},
     "output_type": "execute_result"
    }
   ],
   "source": [
    "clf.predict([df.loc[708, features].tolist()])[0]"
   ]
  },
  {
   "cell_type": "code",
   "execution_count": null,
   "metadata": {},
   "outputs": [],
   "source": []
  }
 ],
 "metadata": {
  "kernelspec": {
   "display_name": "Python 3",
   "language": "python",
   "name": "python3"
  },
  "language_info": {
   "codemirror_mode": {
    "name": "ipython",
    "version": 3
   },
   "file_extension": ".py",
   "mimetype": "text/x-python",
   "name": "python",
   "nbconvert_exporter": "python",
   "pygments_lexer": "ipython3",
   "version": "3.8.5"
  }
 },
 "nbformat": 4,
 "nbformat_minor": 4
}
