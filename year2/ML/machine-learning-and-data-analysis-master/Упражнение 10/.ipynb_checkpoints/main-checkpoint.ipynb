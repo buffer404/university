{
 "cells": [
  {
   "cell_type": "markdown",
   "id": "9275a50b",
   "metadata": {},
   "source": [
    "## Упражнение 10"
   ]
  },
  {
   "cell_type": "code",
   "execution_count": null,
   "id": "f5b7e727",
   "metadata": {},
   "outputs": [],
   "source": [
    "!pip install --upgrade pip\n",
    "!pip install imutils\n",
    "!pip install opencv-python\n",
    "!pip install --upgrade scikit-learn==0.23.0"
   ]
  },
  {
   "cell_type": "code",
   "execution_count": 1,
   "id": "91652ed9",
   "metadata": {},
   "outputs": [],
   "source": [
    "from IPython.display import Image\n",
    "from imutils import paths\n",
    "import numpy as np\n",
    "import cv2\n",
    "import os\n",
    "from sklearn.ensemble import BaggingClassifier\n",
    "from sklearn.tree import DecisionTreeClassifier\n",
    "from sklearn.svm import LinearSVC\n",
    "from sklearn.ensemble import RandomForestClassifier\n",
    "from sklearn.linear_model import LogisticRegression\n",
    "from sklearn.ensemble import StackingClassifier"
   ]
  },
  {
   "cell_type": "markdown",
   "id": "04bfbab9",
   "metadata": {},
   "source": [
    "**СМОТРИТЕ НА АЛГОРИТМЫ САМИ, ИДУТ В РАЗНОМ ПОРЯДКЕ**"
   ]
  },
  {
   "cell_type": "code",
   "execution_count": 2,
   "id": "8ea2ec85",
   "metadata": {},
   "outputs": [],
   "source": [
    "def extract_histogram(image, bins=(8, 8, 8)):\n",
    "    hist = cv2.calcHist([image], [0, 1, 2], None, bins, [0, 256, 0, 256, 0, 256])\n",
    "    cv2.normalize(hist, hist)\n",
    "    return hist.flatten()"
   ]
  },
  {
   "cell_type": "code",
   "execution_count": 3,
   "id": "7d49d937",
   "metadata": {},
   "outputs": [],
   "source": [
    "imagePaths = sorted(list(paths.list_images('train')))\n",
    "trainData = []\n",
    "labels = []\n",
    "\n",
    "for (i, imagePath) in enumerate(imagePaths):\n",
    "    image = cv2.imread(imagePath, 1)\n",
    "    label = imagePath.split(os.path.sep)[-1].split(\".\")[0]\n",
    "    hist = extract_histogram(image)\n",
    "    trainData.append(hist)\n",
    "    labels.append(label)\n",
    "    \n",
    "Y = [1 if x == 'cat' else 0 for x in labels]"
   ]
  },
  {
   "cell_type": "code",
   "execution_count": 4,
   "id": "f2a0eac9",
   "metadata": {},
   "outputs": [
    {
     "name": "stdout",
     "output_type": "stream",
     "text": [
      "1\n"
     ]
    },
    {
     "data": {
      "image/jpeg": "[encoded data removed]",
      "text/plain": [
       "<IPython.core.display.Image object>"
      ]
     },
     "execution_count": 4,
     "metadata": {},
     "output_type": "execute_result"
    }
   ],
   "source": [
    "print(Y[0])\n",
    "Image(filename=imagePaths[0])"
   ]
  },
  {
   "cell_type": "markdown",
   "id": "27feddce",
   "metadata": {},
   "source": [
    "**Бэггинг деревьев принятия решений**  \n",
    "Писать значения, которые у вас в задании"
   ]
  },
  {
   "cell_type": "code",
   "execution_count": 5,
   "id": "bcfddf8b",
   "metadata": {},
   "outputs": [
    {
     "data": {
      "text/plain": [
       "BaggingClassifier(base_estimator=DecisionTreeClassifier(criterion='entropy',\n",
       "                                                        max_leaf_nodes=20,\n",
       "                                                        min_samples_leaf=10,\n",
       "                                                        random_state=42),\n",
       "                  n_estimators=18, random_state=42)"
      ]
     },
     "execution_count": 5,
     "metadata": {},
     "output_type": "execute_result"
    }
   ],
   "source": [
    "tree = DecisionTreeClassifier(criterion='entropy', #критерий разделения\n",
    "                              min_samples_leaf=10, #минимальное число объектов в листе\n",
    "                              max_leaf_nodes=20, #максимальное число листьев\n",
    "                              random_state=42)\n",
    "bagging = BaggingClassifier(tree, #базовый алгоритм\n",
    "                            n_estimators=18, #количество деревьев\n",
    "                            random_state=42)\n",
    "bagging.fit(trainData, Y)"
   ]
  },
  {
   "cell_type": "markdown",
   "id": "3867de61",
   "metadata": {},
   "source": [
    "**Классификатор с мягким зазором и параметрами**  \n",
    "Писать значения, указаные в задании"
   ]
  },
  {
   "cell_type": "code",
   "execution_count": 6,
   "id": "efa57c02",
   "metadata": {},
   "outputs": [
    {
     "data": {
      "text/plain": [
       "LinearSVC(C=1.44, random_state=42)"
      ]
     },
     "execution_count": 6,
     "metadata": {},
     "output_type": "execute_result"
    }
   ],
   "source": [
    "svm = LinearSVC(random_state = 42, C = 1.44)\n",
    "svm.fit(trainData, Y)"
   ]
  },
  {
   "cell_type": "markdown",
   "id": "119c28ac",
   "metadata": {},
   "source": [
    "**Случайный лес с параметрами**  \n",
    "Писать значения, указаные в задании"
   ]
  },
  {
   "cell_type": "code",
   "execution_count": 7,
   "id": "342d8b93",
   "metadata": {},
   "outputs": [
    {
     "data": {
      "text/plain": [
       "RandomForestClassifier(criterion='entropy', max_leaf_nodes=20,\n",
       "                       min_samples_leaf=10, n_estimators=18, random_state=42)"
      ]
     },
     "execution_count": 7,
     "metadata": {},
     "output_type": "execute_result"
    }
   ],
   "source": [
    "forest = RandomForestClassifier(n_estimators=18, #количество деревьев\n",
    "                             criterion='entropy', #критерий разделения\n",
    "                              min_samples_leaf=10, #минимальное число объектов в листе\n",
    "                              max_leaf_nodes=20, #максимальное число листьев\n",
    "                              random_state=42)\n",
    "forest.fit(trainData, Y)"
   ]
  },
  {
   "cell_type": "markdown",
   "id": "00c8a1d0",
   "metadata": {},
   "source": [
    "**Метаалгоритм - логистическая регрессия**  "
   ]
  },
  {
   "cell_type": "code",
   "execution_count": 8,
   "id": "7eed632d",
   "metadata": {},
   "outputs": [],
   "source": [
    "lr = LogisticRegression(solver='lbfgs', random_state=42)"
   ]
  },
  {
   "cell_type": "markdown",
   "id": "ac65b716",
   "metadata": {},
   "source": [
    "**Обучите модель стэкинга**"
   ]
  },
  {
   "cell_type": "code",
   "execution_count": 9,
   "id": "5acabd14",
   "metadata": {},
   "outputs": [
    {
     "data": {
      "text/plain": [
       "StackingClassifier(cv=2,\n",
       "                   estimators=[('SVM', LinearSVC(C=1.44, random_state=42)),\n",
       "                               ('Bagging DT',\n",
       "                                BaggingClassifier(base_estimator=DecisionTreeClassifier(criterion='entropy',\n",
       "                                                                                        max_leaf_nodes=20,\n",
       "                                                                                        min_samples_leaf=10,\n",
       "                                                                                        random_state=42),\n",
       "                                                  n_estimators=18,\n",
       "                                                  random_state=42)),\n",
       "                               ('DecisionForest',\n",
       "                                RandomForestClassifier(criterion='entropy',\n",
       "                                                       max_leaf_nodes=20,\n",
       "                                                       min_samples_leaf=10,\n",
       "                                                       n_estimators=18,\n",
       "                                                       random_state=42))],\n",
       "                   final_estimator=LogisticRegression(random_state=42))"
      ]
     },
     "execution_count": 9,
     "metadata": {},
     "output_type": "execute_result"
    }
   ],
   "source": [
    "base_estimators = [('SVM', svm), ('Bagging DT', bagging), ('DecisionForest', forest)]\n",
    "sclf = StackingClassifier(estimators=base_estimators, final_estimator=lr, cv=2) # здесь CV, изменить\n",
    "sclf.fit(trainData, Y)"
   ]
  },
  {
   "cell_type": "markdown",
   "id": "0803bfb3",
   "metadata": {},
   "source": [
    "**Первый ответ**  \n",
    "Accuracy"
   ]
  },
  {
   "cell_type": "code",
   "execution_count": 10,
   "id": "23f6a445",
   "metadata": {},
   "outputs": [
    {
     "data": {
      "text/plain": [
       "0.845"
      ]
     },
     "execution_count": 10,
     "metadata": {},
     "output_type": "execute_result"
    }
   ],
   "source": [
    "sclf.score(trainData, Y)"
   ]
  },
  {
   "cell_type": "markdown",
   "id": "c3a21313",
   "metadata": {},
   "source": [
    "**Ответы 2-5**  \n",
    "Вставлять название файлов"
   ]
  },
  {
   "cell_type": "code",
   "execution_count": 11,
   "id": "bd4a4523",
   "metadata": {},
   "outputs": [
    {
     "data": {
      "image/jpeg": "[encoded data removed]",
      "text/plain": [
       "<IPython.core.display.Image object>"
      ]
     },
     "execution_count": 11,
     "metadata": {},
     "output_type": "execute_result"
    }
   ],
   "source": [
    "singleImage = cv2.imread('test/dog.1022.jpg') #вставлять сюда\n",
    "histt = extract_histogram(singleImage)\n",
    "histt2 = histt.reshape(1, -1)\n",
    "prediction = sclf.predict(histt2)\n",
    "Image(filename='test/dog.1022.jpg') #вставлять сюда"
   ]
  },
  {
   "cell_type": "code",
   "execution_count": 12,
   "id": "883200a5",
   "metadata": {},
   "outputs": [
    {
     "data": {
      "text/plain": [
       "array([1])"
      ]
     },
     "execution_count": 12,
     "metadata": {},
     "output_type": "execute_result"
    }
   ],
   "source": [
    "prediction"
   ]
  },
  {
   "cell_type": "markdown",
   "id": "23f548b3",
   "metadata": {},
   "source": [
    "Класс 0 dog это нулевой элемент  \n",
    "Класс 1 cat это первый элемент"
   ]
  },
  {
   "cell_type": "code",
   "execution_count": 13,
   "id": "b53119a7",
   "metadata": {},
   "outputs": [
    {
     "data": {
      "text/plain": [
       "array([[0.44782898, 0.55217102]])"
      ]
     },
     "execution_count": 13,
     "metadata": {},
     "output_type": "execute_result"
    }
   ],
   "source": [
    "sclf.predict_proba(histt2)"
   ]
  }
 ],
 "metadata": {
  "kernelspec": {
   "display_name": "Python 3",
   "language": "python",
   "name": "python3"
  },
  "language_info": {
   "codemirror_mode": {
    "name": "ipython",
    "version": 3
   },
   "file_extension": ".py",
   "mimetype": "text/x-python",
   "name": "python",
   "nbconvert_exporter": "python",
   "pygments_lexer": "ipython3",
   "version": "3.8.5"
  }
 },
 "nbformat": 4,
 "nbformat_minor": 5
}
