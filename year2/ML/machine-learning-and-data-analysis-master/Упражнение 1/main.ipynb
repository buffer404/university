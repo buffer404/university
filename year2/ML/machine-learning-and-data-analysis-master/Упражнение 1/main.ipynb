{
 "cells": [
  {
   "cell_type": "markdown",
   "id": "cf86e95c",
   "metadata": {},
   "source": [
    "# Упражнение 1"
   ]
  },
  {
   "cell_type": "markdown",
   "id": "2f77c139",
   "metadata": {},
   "source": [
    "В SQL писать SELECT * FROM pulsar_stars WHERE ((TARGET = 0 AND MIP >=81.5234375 AND MIP <=82.9453125) OR (TARGET = 1 AND MIP >=70.7421875 AND MIP <=77.4921875))  \n",
    "Значения изменить на свои, потом скачать данные и ввести ответ например **100 rows**"
   ]
  },
  {
   "cell_type": "code",
   "execution_count": null,
   "id": "e425c321",
   "metadata": {},
   "outputs": [],
   "source": [
    "!pip install pandas sklearn openpyxl"
   ]
  },
  {
   "cell_type": "code",
   "execution_count": 22,
   "id": "a6e83423",
   "metadata": {
    "scrolled": true
   },
   "outputs": [],
   "source": [
    "import pandas as pd\n",
    "from sklearn.preprocessing import MinMaxScaler"
   ]
  },
  {
   "cell_type": "code",
   "execution_count": 23,
   "id": "a89f7feb",
   "metadata": {},
   "outputs": [],
   "source": [
    "df = pd.read_csv(\"report.csv\")"
   ]
  },
  {
   "cell_type": "markdown",
   "id": "42d823e0",
   "metadata": {},
   "source": [
    "Это второе значение"
   ]
  },
  {
   "cell_type": "code",
   "execution_count": 24,
   "id": "0ddde1ef",
   "metadata": {
    "scrolled": true
   },
   "outputs": [
    {
     "data": {
      "text/plain": [
       "78.24110457920793"
      ]
     },
     "execution_count": 24,
     "metadata": {},
     "output_type": "execute_result"
    }
   ],
   "source": [
    "df[\"MIP\"].mean()"
   ]
  },
  {
   "cell_type": "code",
   "execution_count": 25,
   "id": "0c0eca92",
   "metadata": {},
   "outputs": [],
   "source": [
    "df_norm = df.drop(columns=[\"TARGET\"])"
   ]
  },
  {
   "cell_type": "code",
   "execution_count": 26,
   "id": "136a8288",
   "metadata": {},
   "outputs": [],
   "source": [
    "scaler = MinMaxScaler()\n",
    "names = df_norm.columns\n",
    "d = scaler.fit_transform(df_norm)\n",
    "scaled_df = pd.DataFrame(d, columns=names)"
   ]
  },
  {
   "cell_type": "markdown",
   "id": "80c4d48b",
   "metadata": {},
   "source": [
    "Это третье значение"
   ]
  },
  {
   "cell_type": "code",
   "execution_count": 27,
   "id": "d2757a7f",
   "metadata": {},
   "outputs": [
    {
     "data": {
      "text/plain": [
       "0.6145079296662063"
      ]
     },
     "execution_count": 27,
     "metadata": {},
     "output_type": "execute_result"
    }
   ],
   "source": [
    "scaled_df[\"MIP\"].mean()"
   ]
  },
  {
   "cell_type": "code",
   "execution_count": 28,
   "id": "61162ace",
   "metadata": {},
   "outputs": [],
   "source": [
    "writer = pd.ExcelWriter('output.xlsx')\n",
    "scaled_df.to_excel(writer)\n",
    "writer.close()"
   ]
  },
  {
   "cell_type": "markdown",
   "id": "0f67f0bd",
   "metadata": {},
   "source": [
    "Скопировать значение из _output.xlsx_ и вставить в _example.xlsx_  \n",
    "Также изменить значение STAR (желтые ячейки)  \n",
    "Ответ в **зеленой ячейке**"
   ]
  }
 ],
 "metadata": {
  "kernelspec": {
   "display_name": "Python 3",
   "language": "python",
   "name": "python3"
  },
  "language_info": {
   "codemirror_mode": {
    "name": "ipython",
    "version": 3
   },
   "file_extension": ".py",
   "mimetype": "text/x-python",
   "name": "python",
   "nbconvert_exporter": "python",
   "pygments_lexer": "ipython3",
   "version": "3.8.5"
  }
 },
 "nbformat": 4,
 "nbformat_minor": 5
}