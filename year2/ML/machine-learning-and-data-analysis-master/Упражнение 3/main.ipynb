{
 "cells": [
  {
   "cell_type": "markdown",
   "id": "4532b9f7",
   "metadata": {},
   "source": [
    "## Упражнение 3"
   ]
  },
  {
   "cell_type": "markdown",
   "id": "88d13cfc",
   "metadata": {},
   "source": [
    "### Задача 1"
   ]
  },
  {
   "cell_type": "code",
   "execution_count": 1,
   "id": "b14ce00d",
   "metadata": {},
   "outputs": [],
   "source": [
    "import pandas as pd\n",
    "from sklearn.linear_model import LinearRegression"
   ]
  },
  {
   "cell_type": "markdown",
   "id": "9bb2f0e2",
   "metadata": {},
   "source": [
    "Тут необходимо самому создать файл csv из предложенной таблицы"
   ]
  },
  {
   "cell_type": "code",
   "execution_count": 2,
   "id": "b594dbf9",
   "metadata": {},
   "outputs": [
    {
     "data": {
      "text/html": [
       "<div>\n",
       "<style scoped>\n",
       "    .dataframe tbody tr th:only-of-type {\n",
       "        vertical-align: middle;\n",
       "    }\n",
       "\n",
       "    .dataframe tbody tr th {\n",
       "        vertical-align: top;\n",
       "    }\n",
       "\n",
       "    .dataframe thead th {\n",
       "        text-align: right;\n",
       "    }\n",
       "</style>\n",
       "<table border=\"1\" class=\"dataframe\">\n",
       "  <thead>\n",
       "    <tr style=\"text-align: right;\">\n",
       "      <th></th>\n",
       "      <th>X</th>\n",
       "      <th>Y</th>\n",
       "    </tr>\n",
       "    <tr>\n",
       "      <th>id</th>\n",
       "      <th></th>\n",
       "      <th></th>\n",
       "    </tr>\n",
       "  </thead>\n",
       "  <tbody>\n",
       "    <tr>\n",
       "      <th>1</th>\n",
       "      <td>15</td>\n",
       "      <td>37</td>\n",
       "    </tr>\n",
       "    <tr>\n",
       "      <th>2</th>\n",
       "      <td>11</td>\n",
       "      <td>33</td>\n",
       "    </tr>\n",
       "    <tr>\n",
       "      <th>3</th>\n",
       "      <td>6</td>\n",
       "      <td>13</td>\n",
       "    </tr>\n",
       "    <tr>\n",
       "      <th>4</th>\n",
       "      <td>21</td>\n",
       "      <td>37</td>\n",
       "    </tr>\n",
       "    <tr>\n",
       "      <th>5</th>\n",
       "      <td>17</td>\n",
       "      <td>49</td>\n",
       "    </tr>\n",
       "    <tr>\n",
       "      <th>6</th>\n",
       "      <td>5</td>\n",
       "      <td>9</td>\n",
       "    </tr>\n",
       "    <tr>\n",
       "      <th>7</th>\n",
       "      <td>14</td>\n",
       "      <td>23</td>\n",
       "    </tr>\n",
       "    <tr>\n",
       "      <th>8</th>\n",
       "      <td>9</td>\n",
       "      <td>26</td>\n",
       "    </tr>\n",
       "    <tr>\n",
       "      <th>9</th>\n",
       "      <td>7</td>\n",
       "      <td>15</td>\n",
       "    </tr>\n",
       "    <tr>\n",
       "      <th>10</th>\n",
       "      <td>24</td>\n",
       "      <td>38</td>\n",
       "    </tr>\n",
       "  </tbody>\n",
       "</table>\n",
       "</div>"
      ],
      "text/plain": [
       "     X   Y\n",
       "id        \n",
       "1   15  37\n",
       "2   11  33\n",
       "3    6  13\n",
       "4   21  37\n",
       "5   17  49\n",
       "6    5   9\n",
       "7   14  23\n",
       "8    9  26\n",
       "9    7  15\n",
       "10  24  38"
      ]
     },
     "execution_count": 2,
     "metadata": {},
     "output_type": "execute_result"
    }
   ],
   "source": [
    "df = pd.read_csv(\"report.csv\", index_col='id')\n",
    "df"
   ]
  },
  {
   "cell_type": "markdown",
   "id": "c4062e95",
   "metadata": {},
   "source": [
    "**Первый** ответ"
   ]
  },
  {
   "cell_type": "code",
   "execution_count": 3,
   "id": "71f6732e",
   "metadata": {},
   "outputs": [
    {
     "data": {
      "text/plain": [
       "12.9"
      ]
     },
     "execution_count": 3,
     "metadata": {},
     "output_type": "execute_result"
    }
   ],
   "source": [
    "df[\"X\"].mean()"
   ]
  },
  {
   "cell_type": "markdown",
   "id": "29cd8bae",
   "metadata": {},
   "source": [
    "**Второй** ответ"
   ]
  },
  {
   "cell_type": "code",
   "execution_count": 4,
   "id": "4841149b",
   "metadata": {},
   "outputs": [
    {
     "data": {
      "text/plain": [
       "28.0"
      ]
     },
     "execution_count": 4,
     "metadata": {},
     "output_type": "execute_result"
    }
   ],
   "source": [
    "df[\"Y\"].mean()"
   ]
  },
  {
   "cell_type": "code",
   "execution_count": 5,
   "id": "eacf6241",
   "metadata": {},
   "outputs": [],
   "source": [
    "X = pd.DataFrame(df.drop(['Y'], axis=1))\n",
    "Y = pd.DataFrame(df['Y'])\n",
    "reg = LinearRegression().fit(X,Y)"
   ]
  },
  {
   "cell_type": "markdown",
   "id": "263c61fe",
   "metadata": {},
   "source": [
    "**Третий** ответ "
   ]
  },
  {
   "cell_type": "code",
   "execution_count": 6,
   "id": "6d91da07",
   "metadata": {},
   "outputs": [
    {
     "data": {
      "text/plain": [
       "array([[1.63243532]])"
      ]
     },
     "execution_count": 6,
     "metadata": {},
     "output_type": "execute_result"
    }
   ],
   "source": [
    "reg.coef_"
   ]
  },
  {
   "cell_type": "markdown",
   "id": "f9cd40a5",
   "metadata": {},
   "source": [
    "**Четвертый** ответ"
   ]
  },
  {
   "cell_type": "code",
   "execution_count": 7,
   "id": "ef2bb208",
   "metadata": {},
   "outputs": [
    {
     "data": {
      "text/plain": [
       "array([6.94158442])"
      ]
     },
     "execution_count": 7,
     "metadata": {},
     "output_type": "execute_result"
    }
   ],
   "source": [
    "reg.intercept_"
   ]
  },
  {
   "cell_type": "markdown",
   "id": "76b496ee",
   "metadata": {},
   "source": [
    "**Пятый** ответ"
   ]
  },
  {
   "cell_type": "code",
   "execution_count": 8,
   "id": "45307f15",
   "metadata": {},
   "outputs": [
    {
     "data": {
      "text/plain": [
       "0.660747627938879"
      ]
     },
     "execution_count": 8,
     "metadata": {},
     "output_type": "execute_result"
    }
   ],
   "source": [
    "reg.score(X,Y)"
   ]
  },
  {
   "cell_type": "markdown",
   "id": "cf809601",
   "metadata": {},
   "source": [
    "### Задача 2"
   ]
  },
  {
   "cell_type": "code",
   "execution_count": 9,
   "id": "734150bd",
   "metadata": {
    "scrolled": true
   },
   "outputs": [
    {
     "data": {
      "text/html": [
       "<div>\n",
       "<style scoped>\n",
       "    .dataframe tbody tr th:only-of-type {\n",
       "        vertical-align: middle;\n",
       "    }\n",
       "\n",
       "    .dataframe tbody tr th {\n",
       "        vertical-align: top;\n",
       "    }\n",
       "\n",
       "    .dataframe thead th {\n",
       "        text-align: right;\n",
       "    }\n",
       "</style>\n",
       "<table border=\"1\" class=\"dataframe\">\n",
       "  <thead>\n",
       "    <tr style=\"text-align: right;\">\n",
       "      <th></th>\n",
       "      <th>chocolate</th>\n",
       "      <th>fruity</th>\n",
       "      <th>caramel</th>\n",
       "      <th>peanutyalmondy</th>\n",
       "      <th>nougat</th>\n",
       "      <th>crispedricewafer</th>\n",
       "      <th>hard</th>\n",
       "      <th>bar</th>\n",
       "      <th>pluribus</th>\n",
       "      <th>sugarpercent</th>\n",
       "      <th>pricepercent</th>\n",
       "      <th>winpercent</th>\n",
       "      <th>Y</th>\n",
       "    </tr>\n",
       "    <tr>\n",
       "      <th>competitorname</th>\n",
       "      <th></th>\n",
       "      <th></th>\n",
       "      <th></th>\n",
       "      <th></th>\n",
       "      <th></th>\n",
       "      <th></th>\n",
       "      <th></th>\n",
       "      <th></th>\n",
       "      <th></th>\n",
       "      <th></th>\n",
       "      <th></th>\n",
       "      <th></th>\n",
       "      <th></th>\n",
       "    </tr>\n",
       "  </thead>\n",
       "  <tbody>\n",
       "    <tr>\n",
       "      <th>100 Grand</th>\n",
       "      <td>1</td>\n",
       "      <td>0</td>\n",
       "      <td>1</td>\n",
       "      <td>0</td>\n",
       "      <td>0</td>\n",
       "      <td>1</td>\n",
       "      <td>0</td>\n",
       "      <td>1</td>\n",
       "      <td>0</td>\n",
       "      <td>0.732</td>\n",
       "      <td>0.860</td>\n",
       "      <td>66.971725</td>\n",
       "      <td>1</td>\n",
       "    </tr>\n",
       "    <tr>\n",
       "      <th>3 Musketeers</th>\n",
       "      <td>1</td>\n",
       "      <td>0</td>\n",
       "      <td>0</td>\n",
       "      <td>0</td>\n",
       "      <td>1</td>\n",
       "      <td>0</td>\n",
       "      <td>0</td>\n",
       "      <td>1</td>\n",
       "      <td>0</td>\n",
       "      <td>0.604</td>\n",
       "      <td>0.511</td>\n",
       "      <td>67.602936</td>\n",
       "      <td>1</td>\n",
       "    </tr>\n",
       "    <tr>\n",
       "      <th>One dime</th>\n",
       "      <td>0</td>\n",
       "      <td>0</td>\n",
       "      <td>0</td>\n",
       "      <td>0</td>\n",
       "      <td>0</td>\n",
       "      <td>0</td>\n",
       "      <td>0</td>\n",
       "      <td>0</td>\n",
       "      <td>0</td>\n",
       "      <td>0.011</td>\n",
       "      <td>0.116</td>\n",
       "      <td>32.261086</td>\n",
       "      <td>0</td>\n",
       "    </tr>\n",
       "    <tr>\n",
       "      <th>One quarter</th>\n",
       "      <td>0</td>\n",
       "      <td>0</td>\n",
       "      <td>0</td>\n",
       "      <td>0</td>\n",
       "      <td>0</td>\n",
       "      <td>0</td>\n",
       "      <td>0</td>\n",
       "      <td>0</td>\n",
       "      <td>0</td>\n",
       "      <td>0.011</td>\n",
       "      <td>0.511</td>\n",
       "      <td>46.116505</td>\n",
       "      <td>0</td>\n",
       "    </tr>\n",
       "    <tr>\n",
       "      <th>Air Heads</th>\n",
       "      <td>0</td>\n",
       "      <td>1</td>\n",
       "      <td>0</td>\n",
       "      <td>0</td>\n",
       "      <td>0</td>\n",
       "      <td>0</td>\n",
       "      <td>0</td>\n",
       "      <td>0</td>\n",
       "      <td>0</td>\n",
       "      <td>0.906</td>\n",
       "      <td>0.511</td>\n",
       "      <td>52.341465</td>\n",
       "      <td>1</td>\n",
       "    </tr>\n",
       "    <tr>\n",
       "      <th>...</th>\n",
       "      <td>...</td>\n",
       "      <td>...</td>\n",
       "      <td>...</td>\n",
       "      <td>...</td>\n",
       "      <td>...</td>\n",
       "      <td>...</td>\n",
       "      <td>...</td>\n",
       "      <td>...</td>\n",
       "      <td>...</td>\n",
       "      <td>...</td>\n",
       "      <td>...</td>\n",
       "      <td>...</td>\n",
       "      <td>...</td>\n",
       "    </tr>\n",
       "    <tr>\n",
       "      <th>Snickers Crisper</th>\n",
       "      <td>1</td>\n",
       "      <td>0</td>\n",
       "      <td>1</td>\n",
       "      <td>1</td>\n",
       "      <td>0</td>\n",
       "      <td>1</td>\n",
       "      <td>0</td>\n",
       "      <td>1</td>\n",
       "      <td>0</td>\n",
       "      <td>0.604</td>\n",
       "      <td>0.651</td>\n",
       "      <td>59.529251</td>\n",
       "      <td>1</td>\n",
       "    </tr>\n",
       "    <tr>\n",
       "      <th>Sour Patch Kids</th>\n",
       "      <td>0</td>\n",
       "      <td>1</td>\n",
       "      <td>0</td>\n",
       "      <td>0</td>\n",
       "      <td>0</td>\n",
       "      <td>0</td>\n",
       "      <td>0</td>\n",
       "      <td>0</td>\n",
       "      <td>1</td>\n",
       "      <td>0.069</td>\n",
       "      <td>0.116</td>\n",
       "      <td>59.863998</td>\n",
       "      <td>1</td>\n",
       "    </tr>\n",
       "    <tr>\n",
       "      <th>Sour Patch Tricksters</th>\n",
       "      <td>0</td>\n",
       "      <td>1</td>\n",
       "      <td>0</td>\n",
       "      <td>0</td>\n",
       "      <td>0</td>\n",
       "      <td>0</td>\n",
       "      <td>0</td>\n",
       "      <td>0</td>\n",
       "      <td>1</td>\n",
       "      <td>0.069</td>\n",
       "      <td>0.116</td>\n",
       "      <td>52.825947</td>\n",
       "      <td>1</td>\n",
       "    </tr>\n",
       "    <tr>\n",
       "      <th>Starburst</th>\n",
       "      <td>0</td>\n",
       "      <td>1</td>\n",
       "      <td>0</td>\n",
       "      <td>0</td>\n",
       "      <td>0</td>\n",
       "      <td>0</td>\n",
       "      <td>0</td>\n",
       "      <td>0</td>\n",
       "      <td>1</td>\n",
       "      <td>0.151</td>\n",
       "      <td>0.220</td>\n",
       "      <td>67.037628</td>\n",
       "      <td>1</td>\n",
       "    </tr>\n",
       "    <tr>\n",
       "      <th>Strawberry bon bons</th>\n",
       "      <td>0</td>\n",
       "      <td>1</td>\n",
       "      <td>0</td>\n",
       "      <td>0</td>\n",
       "      <td>0</td>\n",
       "      <td>0</td>\n",
       "      <td>1</td>\n",
       "      <td>0</td>\n",
       "      <td>1</td>\n",
       "      <td>0.569</td>\n",
       "      <td>0.058</td>\n",
       "      <td>34.578991</td>\n",
       "      <td>0</td>\n",
       "    </tr>\n",
       "  </tbody>\n",
       "</table>\n",
       "<p>70 rows × 13 columns</p>\n",
       "</div>"
      ],
      "text/plain": [
       "                       chocolate  fruity  caramel  peanutyalmondy  nougat  \\\n",
       "competitorname                                                              \n",
       "100 Grand                      1       0        1               0       0   \n",
       "3 Musketeers                   1       0        0               0       1   \n",
       "One dime                       0       0        0               0       0   \n",
       "One quarter                    0       0        0               0       0   \n",
       "Air Heads                      0       1        0               0       0   \n",
       "...                          ...     ...      ...             ...     ...   \n",
       "Snickers Crisper               1       0        1               1       0   \n",
       "Sour Patch Kids                0       1        0               0       0   \n",
       "Sour Patch Tricksters          0       1        0               0       0   \n",
       "Starburst                      0       1        0               0       0   \n",
       "Strawberry bon bons            0       1        0               0       0   \n",
       "\n",
       "                       crispedricewafer  hard  bar  pluribus  sugarpercent  \\\n",
       "competitorname                                                               \n",
       "100 Grand                             1     0    1         0         0.732   \n",
       "3 Musketeers                          0     0    1         0         0.604   \n",
       "One dime                              0     0    0         0         0.011   \n",
       "One quarter                           0     0    0         0         0.011   \n",
       "Air Heads                             0     0    0         0         0.906   \n",
       "...                                 ...   ...  ...       ...           ...   \n",
       "Snickers Crisper                      1     0    1         0         0.604   \n",
       "Sour Patch Kids                       0     0    0         1         0.069   \n",
       "Sour Patch Tricksters                 0     0    0         1         0.069   \n",
       "Starburst                             0     0    0         1         0.151   \n",
       "Strawberry bon bons                   0     1    0         1         0.569   \n",
       "\n",
       "                       pricepercent  winpercent  Y  \n",
       "competitorname                                      \n",
       "100 Grand                     0.860   66.971725  1  \n",
       "3 Musketeers                  0.511   67.602936  1  \n",
       "One dime                      0.116   32.261086  0  \n",
       "One quarter                   0.511   46.116505  0  \n",
       "Air Heads                     0.511   52.341465  1  \n",
       "...                             ...         ... ..  \n",
       "Snickers Crisper              0.651   59.529251  1  \n",
       "Sour Patch Kids               0.116   59.863998  1  \n",
       "Sour Patch Tricksters         0.116   52.825947  1  \n",
       "Starburst                     0.220   67.037628  1  \n",
       "Strawberry bon bons           0.058   34.578991  0  \n",
       "\n",
       "[70 rows x 13 columns]"
      ]
     },
     "execution_count": 9,
     "metadata": {},
     "output_type": "execute_result"
    }
   ],
   "source": [
    "df2 = pd.read_csv(\"candy-data.csv\", index_col='competitorname')\n",
    "df2"
   ]
  },
  {
   "cell_type": "markdown",
   "id": "ffdb351c",
   "metadata": {},
   "source": [
    "Вставить в названия указаные у вас"
   ]
  },
  {
   "cell_type": "code",
   "execution_count": 10,
   "id": "313c6768",
   "metadata": {},
   "outputs": [],
   "source": [
    "train_data = df2.drop(['Haribo Twin Snakes', 'Hersheys Krackel'])"
   ]
  },
  {
   "cell_type": "code",
   "execution_count": 11,
   "id": "3084b85b",
   "metadata": {},
   "outputs": [],
   "source": [
    "X2 = pd.DataFrame(train_data.drop(['winpercent', 'Y'], axis=1))\n",
    "Y2 = pd.DataFrame(train_data['winpercent'])\n",
    "reg2 = LinearRegression().fit(X2, Y2)"
   ]
  },
  {
   "cell_type": "markdown",
   "id": "4cb35230",
   "metadata": {},
   "source": [
    "Вставить значения winpercent указаные в варианте  \n",
    "**Третий** ответ "
   ]
  },
  {
   "cell_type": "code",
   "execution_count": 12,
   "id": "705aa494",
   "metadata": {},
   "outputs": [
    {
     "data": {
      "text/plain": [
       "array([[46.93601972]])"
      ]
     },
     "execution_count": 12,
     "metadata": {},
     "output_type": "execute_result"
    }
   ],
   "source": [
    "reg2.predict([[0, 1, 1, 1, 0, 0, 1, 0, 0, 0.32, 0.219]])"
   ]
  },
  {
   "cell_type": "markdown",
   "id": "b5b9dd18",
   "metadata": {},
   "source": [
    "**ТУТ УЖЕ САМОМУ ВСТАВЛЯТЬ НАЗВАНИЯ КОНФЕТ УКАЗАНЫЕ В ВАРИАНТЕ**  \n",
    "Это первые 2 ответа"
   ]
  },
  {
   "cell_type": "code",
   "execution_count": 13,
   "id": "ead4f67f",
   "metadata": {},
   "outputs": [
    {
     "data": {
      "text/plain": [
       "array([[44.64351275]])"
      ]
     },
     "execution_count": 13,
     "metadata": {},
     "output_type": "execute_result"
    }
   ],
   "source": [
    "candy1 = df2.loc['Haribo Twin Snakes',:].to_frame().T\n",
    "reg2.predict(candy1.drop(['winpercent', 'Y'], axis=1))"
   ]
  },
  {
   "cell_type": "code",
   "execution_count": 14,
   "id": "89716369",
   "metadata": {},
   "outputs": [
    {
     "data": {
      "text/plain": [
       "array([[63.86398592]])"
      ]
     },
     "execution_count": 14,
     "metadata": {},
     "output_type": "execute_result"
    }
   ],
   "source": [
    "candy2 = df2.loc['Hersheys Krackel',:].to_frame().T\n",
    "reg2.predict(candy2.drop(['winpercent', 'Y'], axis=1))"
   ]
  }
 ],
 "metadata": {
  "kernelspec": {
   "display_name": "Python 3",
   "language": "python",
   "name": "python3"
  },
  "language_info": {
   "codemirror_mode": {
    "name": "ipython",
    "version": 3
   },
   "file_extension": ".py",
   "mimetype": "text/x-python",
   "name": "python",
   "nbconvert_exporter": "python",
   "pygments_lexer": "ipython3",
   "version": "3.8.5"
  }
 },
 "nbformat": 4,
 "nbformat_minor": 5
}
