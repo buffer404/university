{
 "cells": [
  {
   "cell_type": "markdown",
   "id": "e8ac4ca7",
   "metadata": {},
   "source": [
    "## Упражнение 4"
   ]
  },
  {
   "cell_type": "code",
   "execution_count": 5,
   "id": "3ec4a261",
   "metadata": {},
   "outputs": [],
   "source": [
    "import pandas as pd\n",
    "from sklearn.neighbors import KNeighborsClassifier"
   ]
  },
  {
   "cell_type": "markdown",
   "id": "20fcbb93",
   "metadata": {},
   "source": [
    "**Загружаете свой датасет сами**"
   ]
  },
  {
   "cell_type": "code",
   "execution_count": 2,
   "id": "831497ca",
   "metadata": {},
   "outputs": [
    {
     "data": {
      "text/html": [
       "<div>\n",
       "<style scoped>\n",
       "    .dataframe tbody tr th:only-of-type {\n",
       "        vertical-align: middle;\n",
       "    }\n",
       "\n",
       "    .dataframe tbody tr th {\n",
       "        vertical-align: top;\n",
       "    }\n",
       "\n",
       "    .dataframe thead th {\n",
       "        text-align: right;\n",
       "    }\n",
       "</style>\n",
       "<table border=\"1\" class=\"dataframe\">\n",
       "  <thead>\n",
       "    <tr style=\"text-align: right;\">\n",
       "      <th></th>\n",
       "      <th>X</th>\n",
       "      <th>Y</th>\n",
       "      <th>Class</th>\n",
       "    </tr>\n",
       "    <tr>\n",
       "      <th>id</th>\n",
       "      <th></th>\n",
       "      <th></th>\n",
       "      <th></th>\n",
       "    </tr>\n",
       "  </thead>\n",
       "  <tbody>\n",
       "    <tr>\n",
       "      <th>1</th>\n",
       "      <td>61</td>\n",
       "      <td>48</td>\n",
       "      <td>1</td>\n",
       "    </tr>\n",
       "    <tr>\n",
       "      <th>2</th>\n",
       "      <td>62</td>\n",
       "      <td>28</td>\n",
       "      <td>1</td>\n",
       "    </tr>\n",
       "    <tr>\n",
       "      <th>3</th>\n",
       "      <td>83</td>\n",
       "      <td>84</td>\n",
       "      <td>0</td>\n",
       "    </tr>\n",
       "    <tr>\n",
       "      <th>4</th>\n",
       "      <td>68</td>\n",
       "      <td>24</td>\n",
       "      <td>1</td>\n",
       "    </tr>\n",
       "    <tr>\n",
       "      <th>5</th>\n",
       "      <td>56</td>\n",
       "      <td>39</td>\n",
       "      <td>1</td>\n",
       "    </tr>\n",
       "    <tr>\n",
       "      <th>6</th>\n",
       "      <td>32</td>\n",
       "      <td>95</td>\n",
       "      <td>1</td>\n",
       "    </tr>\n",
       "    <tr>\n",
       "      <th>7</th>\n",
       "      <td>99</td>\n",
       "      <td>14</td>\n",
       "      <td>1</td>\n",
       "    </tr>\n",
       "    <tr>\n",
       "      <th>8</th>\n",
       "      <td>87</td>\n",
       "      <td>64</td>\n",
       "      <td>0</td>\n",
       "    </tr>\n",
       "    <tr>\n",
       "      <th>9</th>\n",
       "      <td>44</td>\n",
       "      <td>35</td>\n",
       "      <td>0</td>\n",
       "    </tr>\n",
       "    <tr>\n",
       "      <th>10</th>\n",
       "      <td>70</td>\n",
       "      <td>51</td>\n",
       "      <td>0</td>\n",
       "    </tr>\n",
       "  </tbody>\n",
       "</table>\n",
       "</div>"
      ],
      "text/plain": [
       "     X   Y  Class\n",
       "id               \n",
       "1   61  48      1\n",
       "2   62  28      1\n",
       "3   83  84      0\n",
       "4   68  24      1\n",
       "5   56  39      1\n",
       "6   32  95      1\n",
       "7   99  14      1\n",
       "8   87  64      0\n",
       "9   44  35      0\n",
       "10  70  51      0"
      ]
     },
     "execution_count": 2,
     "metadata": {},
     "output_type": "execute_result"
    }
   ],
   "source": [
    "train_data = pd.read_csv(\"report.csv\", index_col = \"id\")\n",
    "train_data"
   ]
  },
  {
   "cell_type": "code",
   "execution_count": 3,
   "id": "052304ce",
   "metadata": {},
   "outputs": [],
   "source": [
    "X = pd.DataFrame(train_data.drop(['Class'], axis=1))\n",
    "y = pd.DataFrame(train_data['Class']).values.ravel()"
   ]
  },
  {
   "cell_type": "code",
   "execution_count": 8,
   "id": "d4002c18",
   "metadata": {},
   "outputs": [
    {
     "data": {
      "text/plain": [
       "KNeighborsClassifier(n_neighbors=3)"
      ]
     },
     "execution_count": 8,
     "metadata": {},
     "output_type": "execute_result"
    }
   ],
   "source": [
    "Euclid = KNeighborsClassifier(n_neighbors=3, p=2)\n",
    "Euclid.fit(X, y)"
   ]
  },
  {
   "cell_type": "markdown",
   "id": "3db5dc51",
   "metadata": {},
   "source": [
    "В Object пишете свои координаты"
   ]
  },
  {
   "cell_type": "code",
   "execution_count": 17,
   "id": "6a4d733f",
   "metadata": {},
   "outputs": [],
   "source": [
    "Object = [94, 37]"
   ]
  },
  {
   "cell_type": "markdown",
   "id": "229a83fc",
   "metadata": {},
   "source": [
    "Первое значение сверху это **первый ответ**  \n",
    "К нижним добавить по единице и получится **второй ответ**  _Пример: 6,9,7 -> 7,10,8_"
   ]
  },
  {
   "cell_type": "code",
   "execution_count": 18,
   "id": "07088020",
   "metadata": {},
   "outputs": [
    {
     "data": {
      "text/plain": [
       "(array([[23.53720459, 27.78488798, 27.89265136]]),\n",
       " array([[6, 9, 7]], dtype=int64))"
      ]
     },
     "execution_count": 18,
     "metadata": {},
     "output_type": "execute_result"
    }
   ],
   "source": [
    "Euclid.kneighbors([Object])"
   ]
  },
  {
   "cell_type": "markdown",
   "id": "2a48659c",
   "metadata": {},
   "source": [
    "Это **третий ответ**"
   ]
  },
  {
   "cell_type": "code",
   "execution_count": 19,
   "id": "370c80d1",
   "metadata": {},
   "outputs": [
    {
     "data": {
      "text/plain": [
       "array([0], dtype=int64)"
      ]
     },
     "execution_count": 19,
     "metadata": {},
     "output_type": "execute_result"
    }
   ],
   "source": [
    "Euclid.predict([Object])"
   ]
  },
  {
   "cell_type": "code",
   "execution_count": 20,
   "id": "e22f05d8",
   "metadata": {},
   "outputs": [
    {
     "data": {
      "text/plain": [
       "KNeighborsClassifier(n_neighbors=3, p=1)"
      ]
     },
     "execution_count": 20,
     "metadata": {},
     "output_type": "execute_result"
    }
   ],
   "source": [
    "Manhattan = KNeighborsClassifier(n_neighbors=3, p=1)\n",
    "Manhattan.fit(X, y)"
   ]
  },
  {
   "cell_type": "markdown",
   "id": "ee1d4401",
   "metadata": {},
   "source": [
    "**Четвертый и пятый ответы**  \n",
    "Логика такая же как в ответах 1 и 2"
   ]
  },
  {
   "cell_type": "code",
   "execution_count": 21,
   "id": "b218acb3",
   "metadata": {},
   "outputs": [
    {
     "data": {
      "text/plain": [
       "(array([[28., 34., 38.]]), array([[6, 7, 9]], dtype=int64))"
      ]
     },
     "execution_count": 21,
     "metadata": {},
     "output_type": "execute_result"
    }
   ],
   "source": [
    "Manhattan.kneighbors([Object])"
   ]
  },
  {
   "cell_type": "markdown",
   "id": "8451352c",
   "metadata": {},
   "source": [
    "**Шестой ответ**"
   ]
  },
  {
   "cell_type": "code",
   "execution_count": 22,
   "id": "9bebe72a",
   "metadata": {},
   "outputs": [
    {
     "data": {
      "text/plain": [
       "array([0], dtype=int64)"
      ]
     },
     "execution_count": 22,
     "metadata": {},
     "output_type": "execute_result"
    }
   ],
   "source": [
    "Manhattan.predict([Object])"
   ]
  }
 ],
 "metadata": {
  "kernelspec": {
   "display_name": "Python 3",
   "language": "python",
   "name": "python3"
  },
  "language_info": {
   "codemirror_mode": {
    "name": "ipython",
    "version": 3
   },
   "file_extension": ".py",
   "mimetype": "text/x-python",
   "name": "python",
   "nbconvert_exporter": "python",
   "pygments_lexer": "ipython3",
   "version": "3.8.5"
  }
 },
 "nbformat": 4,
 "nbformat_minor": 5
}
